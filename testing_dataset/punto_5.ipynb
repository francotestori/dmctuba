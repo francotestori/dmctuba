{
 "cells": [
  {
   "cell_type": "code",
   "execution_count": 53,
   "metadata": {},
   "outputs": [],
   "source": [
    "import numpy as np\n",
    "import pandas as pd\n",
    "\n",
    "import bct\n",
    "import glob\n",
    "import os\n",
    "import networkx as nx\n",
    "\n",
    "from pathlib import Path\n"
   ]
  },
  {
   "cell_type": "code",
   "execution_count": 54,
   "metadata": {},
   "outputs": [],
   "source": [
    "def module_nodes(modules, module):\n",
    "    nodes = []\n",
    "    \n",
    "    for (key, value) in modules.items():\n",
    "        if value == module:\n",
    "            nodes.append(value)\n",
    "            \n",
    "    return nodes"
   ]
  },
  {
   "cell_type": "code",
   "execution_count": 94,
   "metadata": {},
   "outputs": [],
   "source": [
    "def relative_degree(grid, nodes, node):\n",
    "    all_nodes = nodes\n",
    "    if not np.isin(node, nodes):\n",
    "        all_nodes.append(node)\n",
    "    \n",
    "    return (grid.subgraph(nodes).degree(node))"
   ]
  },
  {
   "cell_type": "code",
   "execution_count": 56,
   "metadata": {},
   "outputs": [],
   "source": [
    "def global_degree(node, grid):\n",
    "    return(grid.degree(node))"
   ]
  },
  {
   "cell_type": "code",
   "execution_count": 97,
   "metadata": {},
   "outputs": [],
   "source": [
    "def participation_coefficient(grid, modules, node):\n",
    "    acum = 0\n",
    "    number_of_modules = len(set(list(modules.values())))\n",
    "    \n",
    "    for module in rang(1,number_of_modules):\n",
    "        relative_degree_value = relative_degree(grid, module_nodes(modules, module), node)\n",
    "        global_degre_value = global_degre(node, grid)        \n",
    "        acum = pow(relative_degree_value / global_degre_value, 2)\n",
    "    return (1-acum)        "
   ]
  },
  {
   "cell_type": "code",
   "execution_count": 88,
   "metadata": {},
   "outputs": [],
   "source": [
    "def intra_modular_degree_zscore(grid, modules, node):\n",
    "    module = modules[node]    \n",
    "    nodes = module_nodes(modules, module)\n",
    "    relative_degrees = {}\n",
    "    \n",
    "    for  node in nodes:\n",
    "        relative_degrees[node] = relative_degree(grid, nodes, node)\n",
    "    \n",
    "    im_degree = relative_degrees[node]\n",
    "    degrees_values = list(relative_degrees.values())\n",
    "    im_mean = np.mean(degrees_values)        \n",
    "    im_std_deviation = np.std(degrees_values)        \n",
    "    \n",
    "    return ((im_degree - im_mean) / im_std_deviation)\n",
    "    "
   ]
  },
  {
   "cell_type": "code",
   "execution_count": 59,
   "metadata": {},
   "outputs": [],
   "source": [
    "def node_clasfication(P_c, Z_c, P_i, Z_i):\n",
    "    if (P_i > P_c and Z_i > Z_c):\n",
    "        return(\"hub\")\n",
    "    if (P_i < P_c and Z_i > Z_c):\n",
    "        return(\"provincial_hub\")\n",
    "    if (P_i < P_c and Z_i < Z_c):\n",
    "        return(\"provincial_node\")\n",
    "    if (P_i > P_c and Z_i < Z_c):\n",
    "        return(\"connector_node\")\n",
    "    "
   ]
  },
  {
   "cell_type": "code",
   "execution_count": 74,
   "metadata": {},
   "outputs": [],
   "source": [
    "def node_roles(G, P_c, Z_c):\n",
    "    result = {}\n",
    "    modules = community_louvain.best_partition(G)\n",
    "\n",
    "    for node in G.nodes():\n",
    "        Z_i = intra_modular_degree_zscore(G, modules, node)\n",
    "        P_i = participation_coefficient(G, modules, node)\n",
    "        role = node_clasfication(P_c, Z_c, P_i, Z_i)\n",
    "        result[node] = [Z_i, P_i, role]\n",
    "    \n",
    "    return(result)"
   ]
  },
  {
   "cell_type": "code",
   "execution_count": 61,
   "metadata": {},
   "outputs": [],
   "source": [
    "def subjectmatrix_to_graphs(filename, densities):\n",
    "    \"\"\"\n",
    "    Toma un archivo csv con la matriz de input y devuelve una lista de grafos con la densidad de aristas correspondiente\n",
    "    \"\"\"\n",
    "\n",
    "    correlation_matrix = pd.read_csv(\n",
    "        filename,\n",
    "        header=None\n",
    "    )\n",
    "    n = correlation_matrix.shape[0]\n",
    "    correlation_matrix -= np.diag(np.ones(n))\n",
    "    max_links = (n*n-n)//2\n",
    "    tril_idx = np.tril_indices(n,-1)\n",
    "    sorted_correlations = sorted(\n",
    "        correlation_matrix.values[tril_idx].flatten(),\n",
    "        reverse=True\n",
    "    )\n",
    "\n",
    "    Gs = []\n",
    "    for d in densities:\n",
    "        idx = int(d*max_links)\n",
    "        threshold = sorted_correlations[idx]\n",
    "        Gs.append(nx.from_pandas_adjacency(correlation_matrix>=threshold))\n",
    "\n",
    "    return Gs"
   ]
  },
  {
   "cell_type": "code",
   "execution_count": 62,
   "metadata": {},
   "outputs": [],
   "source": [
    "def extract_graphs(tipo_red, densities):\n",
    "\n",
    "    path = r'../resources/DataSujetos' # use your path\n",
    "    all_files = glob.glob(path + \"/{}_suj*.csv\".format(tipo_red))\n",
    "\n",
    "\n",
    "    graphs = {}\n",
    "    for filename in all_files:\n",
    "        Gs = subjectmatrix_to_graphs(filename, densities)\n",
    "        name = Path(filename).stem\n",
    "        graphs[name] = Gs\n",
    "\n",
    "    return graphs"
   ]
  },
  {
   "cell_type": "code",
   "execution_count": 63,
   "metadata": {},
   "outputs": [],
   "source": [
    "densities = np.linspace(0.0,0.4,10)\n",
    "\n",
    "G_N1 = extract_graphs(\"N1\", densities)\n",
    "G_N2 = extract_graphs(\"N2\", densities)\n",
    "G_N3 = extract_graphs(\"N3\", densities)\n",
    "G_W = extract_graphs(\"W\", densities)"
   ]
  },
  {
   "cell_type": "code",
   "execution_count": 98,
   "metadata": {},
   "outputs": [
    {
     "name": "stderr",
     "output_type": "stream",
     "text": [
      "<ipython-input-88-1088658dff0e>:14: RuntimeWarning: invalid value encountered in double_scalars\n",
      "  return ((im_degree - im_mean) / im_std_deviation)\n"
     ]
    },
    {
     "ename": "NameError",
     "evalue": "name 'modulos' is not defined",
     "output_type": "error",
     "traceback": [
      "\u001b[0;31m---------------------------------------------------------------------------\u001b[0m",
      "\u001b[0;31mNameError\u001b[0m                                 Traceback (most recent call last)",
      "\u001b[0;32m<ipython-input-98-b6e7589867f5>\u001b[0m in \u001b[0;36m<module>\u001b[0;34m\u001b[0m\n\u001b[0;32m----> 1\u001b[0;31m \u001b[0mnode_roles\u001b[0m\u001b[0;34m(\u001b[0m\u001b[0mG_N1\u001b[0m\u001b[0;34m[\u001b[0m\u001b[0;34m\"N1_suj1\"\u001b[0m\u001b[0;34m]\u001b[0m\u001b[0;34m[\u001b[0m\u001b[0;36m1\u001b[0m\u001b[0;34m]\u001b[0m\u001b[0;34m,\u001b[0m \u001b[0;36m1\u001b[0m\u001b[0;34m,\u001b[0m \u001b[0;36m1\u001b[0m\u001b[0;34m)\u001b[0m\u001b[0;34m\u001b[0m\u001b[0;34m\u001b[0m\u001b[0m\n\u001b[0m",
      "\u001b[0;32m<ipython-input-74-d5c011670ae7>\u001b[0m in \u001b[0;36mnode_roles\u001b[0;34m(G, P_c, Z_c)\u001b[0m\n\u001b[1;32m      5\u001b[0m     \u001b[0;32mfor\u001b[0m \u001b[0mnode\u001b[0m \u001b[0;32min\u001b[0m \u001b[0mG\u001b[0m\u001b[0;34m.\u001b[0m\u001b[0mnodes\u001b[0m\u001b[0;34m(\u001b[0m\u001b[0;34m)\u001b[0m\u001b[0;34m:\u001b[0m\u001b[0;34m\u001b[0m\u001b[0;34m\u001b[0m\u001b[0m\n\u001b[1;32m      6\u001b[0m         \u001b[0mZ_i\u001b[0m \u001b[0;34m=\u001b[0m \u001b[0mintra_modular_degree_zscore\u001b[0m\u001b[0;34m(\u001b[0m\u001b[0mG\u001b[0m\u001b[0;34m,\u001b[0m \u001b[0mmodules\u001b[0m\u001b[0;34m,\u001b[0m \u001b[0mnode\u001b[0m\u001b[0;34m)\u001b[0m\u001b[0;34m\u001b[0m\u001b[0;34m\u001b[0m\u001b[0m\n\u001b[0;32m----> 7\u001b[0;31m         \u001b[0mP_i\u001b[0m \u001b[0;34m=\u001b[0m \u001b[0mparticipation_coefficient\u001b[0m\u001b[0;34m(\u001b[0m\u001b[0mG\u001b[0m\u001b[0;34m,\u001b[0m \u001b[0mmodules\u001b[0m\u001b[0;34m,\u001b[0m \u001b[0mnode\u001b[0m\u001b[0;34m)\u001b[0m\u001b[0;34m\u001b[0m\u001b[0;34m\u001b[0m\u001b[0m\n\u001b[0m\u001b[1;32m      8\u001b[0m         \u001b[0mrole\u001b[0m \u001b[0;34m=\u001b[0m \u001b[0mnode_clasfication\u001b[0m\u001b[0;34m(\u001b[0m\u001b[0mP_c\u001b[0m\u001b[0;34m,\u001b[0m \u001b[0mZ_c\u001b[0m\u001b[0;34m,\u001b[0m \u001b[0mP_i\u001b[0m\u001b[0;34m,\u001b[0m \u001b[0mZ_i\u001b[0m\u001b[0;34m)\u001b[0m\u001b[0;34m\u001b[0m\u001b[0;34m\u001b[0m\u001b[0m\n\u001b[1;32m      9\u001b[0m         \u001b[0mresult\u001b[0m\u001b[0;34m[\u001b[0m\u001b[0mnode\u001b[0m\u001b[0;34m]\u001b[0m \u001b[0;34m=\u001b[0m \u001b[0;34m[\u001b[0m\u001b[0mZ_i\u001b[0m\u001b[0;34m,\u001b[0m \u001b[0mP_i\u001b[0m\u001b[0;34m,\u001b[0m \u001b[0mrole\u001b[0m\u001b[0;34m]\u001b[0m\u001b[0;34m\u001b[0m\u001b[0;34m\u001b[0m\u001b[0m\n",
      "\u001b[0;32m<ipython-input-97-f98b1f4c97d3>\u001b[0m in \u001b[0;36mparticipation_coefficient\u001b[0;34m(grid, modules, node)\u001b[0m\n\u001b[1;32m      1\u001b[0m \u001b[0;32mdef\u001b[0m \u001b[0mparticipation_coefficient\u001b[0m\u001b[0;34m(\u001b[0m\u001b[0mgrid\u001b[0m\u001b[0;34m,\u001b[0m \u001b[0mmodules\u001b[0m\u001b[0;34m,\u001b[0m \u001b[0mnode\u001b[0m\u001b[0;34m)\u001b[0m\u001b[0;34m:\u001b[0m\u001b[0;34m\u001b[0m\u001b[0;34m\u001b[0m\u001b[0m\n\u001b[1;32m      2\u001b[0m     \u001b[0macum\u001b[0m \u001b[0;34m=\u001b[0m \u001b[0;36m0\u001b[0m\u001b[0;34m\u001b[0m\u001b[0;34m\u001b[0m\u001b[0m\n\u001b[0;32m----> 3\u001b[0;31m     \u001b[0mnumber_of_modules\u001b[0m \u001b[0;34m=\u001b[0m \u001b[0mlen\u001b[0m\u001b[0;34m(\u001b[0m\u001b[0mset\u001b[0m\u001b[0;34m(\u001b[0m\u001b[0mlist\u001b[0m\u001b[0;34m(\u001b[0m\u001b[0mmodulos\u001b[0m\u001b[0;34m.\u001b[0m\u001b[0mvalues\u001b[0m\u001b[0;34m(\u001b[0m\u001b[0;34m)\u001b[0m\u001b[0;34m)\u001b[0m\u001b[0;34m)\u001b[0m\u001b[0;34m)\u001b[0m\u001b[0;34m\u001b[0m\u001b[0;34m\u001b[0m\u001b[0m\n\u001b[0m\u001b[1;32m      4\u001b[0m \u001b[0;34m\u001b[0m\u001b[0m\n\u001b[1;32m      5\u001b[0m     \u001b[0;32mfor\u001b[0m \u001b[0mmodule\u001b[0m \u001b[0;32min\u001b[0m \u001b[0mrang\u001b[0m\u001b[0;34m(\u001b[0m\u001b[0;36m1\u001b[0m\u001b[0;34m,\u001b[0m\u001b[0mnumber_of_modules\u001b[0m\u001b[0;34m)\u001b[0m\u001b[0;34m:\u001b[0m\u001b[0;34m\u001b[0m\u001b[0;34m\u001b[0m\u001b[0m\n",
      "\u001b[0;31mNameError\u001b[0m: name 'modulos' is not defined"
     ]
    }
   ],
   "source": [
    "node_roles(G_N1[\"N1_suj1\"][1], 1, 1)"
   ]
  },
  {
   "cell_type": "code",
   "execution_count": null,
   "metadata": {},
   "outputs": [],
   "source": []
  },
  {
   "cell_type": "code",
   "execution_count": null,
   "metadata": {},
   "outputs": [],
   "source": []
  }
 ],
 "metadata": {
  "kernelspec": {
   "display_name": "Python 3",
   "language": "python",
   "name": "python3"
  },
  "language_info": {
   "codemirror_mode": {
    "name": "ipython",
    "version": 3
   },
   "file_extension": ".py",
   "mimetype": "text/x-python",
   "name": "python",
   "nbconvert_exporter": "python",
   "pygments_lexer": "ipython3",
   "version": "3.8.5"
  }
 },
 "nbformat": 4,
 "nbformat_minor": 4
}
