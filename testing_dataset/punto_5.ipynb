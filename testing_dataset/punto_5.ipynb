{
 "cells": [
  {
   "cell_type": "code",
   "execution_count": 53,
   "metadata": {},
   "outputs": [],
   "source": [
    "import numpy as np\n",
    "import pandas as pd\n",
    "\n",
    "import bct\n",
    "import glob\n",
    "import os\n",
    "import networkx as nx\n",
    "\n",
    "from pathlib import Path\n"
   ]
  },
  {
   "cell_type": "code",
   "execution_count": 129,
   "metadata": {},
   "outputs": [],
   "source": [
    "def module_nodes(modules, module):\n",
    "    nodes = []\n",
    "    \n",
    "    for (key, value) in modules.items():\n",
    "        if value == module:\n",
    "            nodes.append(key)\n",
    "            \n",
    "    return nodes"
   ]
  },
  {
   "cell_type": "code",
   "execution_count": 94,
   "metadata": {},
   "outputs": [],
   "source": [
    "def relative_degree(grid, nodes, node):\n",
    "    all_nodes = nodes\n",
    "    if not np.isin(node, nodes):\n",
    "        all_nodes.append(node)\n",
    "    \n",
    "    return (grid.subgraph(nodes).degree(node))"
   ]
  },
  {
   "cell_type": "code",
   "execution_count": 56,
   "metadata": {},
   "outputs": [],
   "source": [
    "def global_degree(node, grid):\n",
    "    return(grid.degree(node))"
   ]
  },
  {
   "cell_type": "code",
   "execution_count": 112,
   "metadata": {},
   "outputs": [],
   "source": [
    "def participation_coefficient(grid, modules, node):\n",
    "    acum = 0\n",
    "    number_of_modules = len(set(list(modules.values())))\n",
    "    \n",
    "    for module in range(1,number_of_modules):\n",
    "        relative_degree_value = relative_degree(grid, module_nodes(modules, module), node)\n",
    "        global_degree_value = global_degree(node, grid)        \n",
    "        \n",
    "        if global_degree_value > 0:\n",
    "            acum = pow(relative_degree_value / global_degree_value, 2)\n",
    "        else:\n",
    "            #print(\"Global degree zero for node %s and module %s\", node, module)\n",
    "            acum = 0\n",
    "            \n",
    "    return (1-acum)        "
   ]
  },
  {
   "cell_type": "code",
   "execution_count": 135,
   "metadata": {},
   "outputs": [],
   "source": [
    "def intra_modular_degree_zscore(grid, modules, node):\n",
    "    module = modules[node]    \n",
    "    nodes = module_nodes(modules, module)\n",
    "    relative_degrees = {}\n",
    "    \n",
    "    for  node in nodes:\n",
    "        relative_degrees[node] = relative_degree(grid, nodes, node)\n",
    "    \n",
    "    im_degree = relative_degrees[node]\n",
    "    degrees_values = list(relative_degrees.values())\n",
    "    im_mean = np.mean(degrees_values)        \n",
    "    im_std_deviation = np.std(degrees_values)\n",
    "    \n",
    "    if im_std_deviation > 0:\n",
    "        return ((im_degree - im_mean) / im_std_deviation)\n",
    "    else:\n",
    "        return (0)\n",
    "    "
   ]
  },
  {
   "cell_type": "code",
   "execution_count": 165,
   "metadata": {},
   "outputs": [],
   "source": [
    "def node_clasfication(P_c, Z_c, P_i, Z_i):\n",
    "    if (P_i >= P_c and Z_i >= Z_c):\n",
    "        return(\"hub\")\n",
    "    if (P_i <= P_c and Z_i >= Z_c):\n",
    "        return(\"provincial_hub\")\n",
    "    if (P_i <= P_c and Z_i <= Z_c):\n",
    "        return(\"provincial_node\")\n",
    "    if (P_i >= P_c and Z_i <= Z_c):\n",
    "        return(\"connector_node\")\n",
    "    "
   ]
  },
  {
   "cell_type": "code",
   "execution_count": 157,
   "metadata": {},
   "outputs": [],
   "source": [
    "def node_roles(G, P_c, Z_c):\n",
    "    result = {}\n",
    "    roles = []\n",
    "    modules = community_louvain.best_partition(G)\n",
    "\n",
    "    for node in G.nodes():\n",
    "        Z_i = intra_modular_degree_zscore(G, modules, node)\n",
    "        P_i = participation_coefficient(G, modules, node)\n",
    "        role = node_clasfication(P_c, Z_c, P_i, Z_i)        \n",
    "        result[node] = list([Z_i, P_i, role])\n",
    "        roles.append(role)\n",
    "    \n",
    "    return([result, roles])"
   ]
  },
  {
   "cell_type": "code",
   "execution_count": 168,
   "metadata": {},
   "outputs": [],
   "source": [
    "def grid_roles(G, P_c, Z_c):\n",
    "    roles_stats, roles = node_roles(G, P_c, Z_c)\n",
    "    unique_roles, counts = np.unique(roles, return_counts=True)\n",
    "    \n",
    "    result = {\"hub\" : 0,\n",
    "              \"provincial_hub\": 0,\n",
    "              \"provincial_node\": 0,\n",
    "              \"connector_node\": 0}\n",
    "    \n",
    "    for i in range(0, len(unique_roles)):\n",
    "        result[unique_roles[i]] = counts[i]\n",
    "        \n",
    "    return (result)\n",
    "    "
   ]
  },
  {
   "cell_type": "code",
   "execution_count": 143,
   "metadata": {},
   "outputs": [],
   "source": [
    "def subjectmatrix_to_graphs(filename, densities):\n",
    "    \"\"\"\n",
    "    Toma un archivo csv con la matriz de input y devuelve una lista de grafos con la densidad de aristas correspondiente\n",
    "    \"\"\"\n",
    "\n",
    "    correlation_matrix = pd.read_csv(\n",
    "        filename,\n",
    "        header=None\n",
    "    )\n",
    "    n = correlation_matrix.shape[0]\n",
    "    correlation_matrix -= np.diag(np.ones(n))\n",
    "    max_links = (n*n-n)//2\n",
    "    tril_idx = np.tril_indices(n,-1)\n",
    "    sorted_correlations = sorted(\n",
    "        correlation_matrix.values[tril_idx].flatten(),\n",
    "        reverse=True\n",
    "    )\n",
    "\n",
    "    #Gs = []\n",
    "    Gs = {}\n",
    "    for d in densities:\n",
    "        idx = int(d*max_links)\n",
    "        threshold = sorted_correlations[idx]\n",
    "        #Gs.append(nx.from_pandas_adjacency(correlation_matrix>=threshold))\n",
    "        Gs[d] = nx.from_pandas_adjacency(correlation_matrix>=threshold)\n",
    "\n",
    "    return Gs"
   ]
  },
  {
   "cell_type": "code",
   "execution_count": 139,
   "metadata": {},
   "outputs": [],
   "source": [
    "def extract_graphs(tipo_red, densities):\n",
    "\n",
    "    path = r'../resources/DataSujetos' # use your path\n",
    "    all_files = glob.glob(path + \"/{}_suj*.csv\".format(tipo_red))\n",
    "\n",
    "\n",
    "    graphs = {}\n",
    "    for filename in all_files:\n",
    "        Gs = subjectmatrix_to_graphs(filename, densities)\n",
    "        name = Path(filename).stem\n",
    "        graphs[name] = Gs\n",
    "\n",
    "    return graphs"
   ]
  },
  {
   "cell_type": "code",
   "execution_count": 144,
   "metadata": {},
   "outputs": [],
   "source": [
    "densities = np.linspace(0.0,0.4,10)\n",
    "\n",
    "G_N1 = extract_graphs(\"N1\", densities)\n",
    "G_N2 = extract_graphs(\"N2\", densities)\n",
    "G_N3 = extract_graphs(\"N3\", densities)\n",
    "G_W = extract_graphs(\"W\", densities)"
   ]
  },
  {
   "cell_type": "code",
   "execution_count": 175,
   "metadata": {},
   "outputs": [],
   "source": [
    "def roles_per_state(Gs):\n",
    "    roles = []\n",
    "    for (sub, gs) in G_N1.items():\n",
    "        for (density, g) in gs.items():\n",
    "            grid_roles_values = grid_roles(g, 0.05, 1)\n",
    "            roles.append([sub, density, grid_roles_values[\"hub\"]\n",
    "                            , grid_roles_values[\"provincial_hub\"]\n",
    "                            , grid_roles_values[\"provincial_node\"]\n",
    "                            , grid_roles_values[\"connector_node\"]])\n",
    "    return (roles)"
   ]
  },
  {
   "cell_type": "code",
   "execution_count": 176,
   "metadata": {},
   "outputs": [],
   "source": [
    "roles_N1 = roles_per_state(G_N1)"
   ]
  },
  {
   "cell_type": "code",
   "execution_count": 178,
   "metadata": {},
   "outputs": [],
   "source": [
    "roles_N2 = roles_per_state(G_N2)"
   ]
  },
  {
   "cell_type": "code",
   "execution_count": 179,
   "metadata": {},
   "outputs": [],
   "source": [
    "roles_N3 = roles_per_state(G_N3)"
   ]
  },
  {
   "cell_type": "code",
   "execution_count": 180,
   "metadata": {},
   "outputs": [],
   "source": [
    "roles_W = roles_per_state(G_W)"
   ]
  },
  {
   "cell_type": "code",
   "execution_count": null,
   "metadata": {},
   "outputs": [],
   "source": []
  }
 ],
 "metadata": {
  "kernelspec": {
   "display_name": "Python 3",
   "language": "python",
   "name": "python3"
  },
  "language_info": {
   "codemirror_mode": {
    "name": "ipython",
    "version": 3
   },
   "file_extension": ".py",
   "mimetype": "text/x-python",
   "name": "python",
   "nbconvert_exporter": "python",
   "pygments_lexer": "ipython3",
   "version": "3.8.5"
  }
 },
 "nbformat": 4,
 "nbformat_minor": 4
}
