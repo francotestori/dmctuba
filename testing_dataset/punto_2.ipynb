{
 "cells": [
  {
   "cell_type": "code",
   "execution_count": null,
   "metadata": {
    "collapsed": true
   },
   "outputs": [],
   "source": [
    "import numpy as np\n",
    "import pandas as pd\n",
    "import matplotlib.pyplot as plt\n",
    "import seaborn as sns\n",
    "import networkx as nx\n",
    "import matplotlib.cm as mplcm\n",
    "import matplotlib.colors as colors\n",
    "import bct\n",
    "import community\n",
    "from pathlib import Path\n",
    "import glob\n",
    "import random\n",
    "\n",
    "from sklearn.metrics import adjusted_rand_score\n",
    "\n",
    "%matplotlib inline\n",
    "\n",
    "# Styles\n",
    "sns.set_context('poster')\n",
    "sns.set_style('darkgrid')\n",
    "\n",
    "plt.rcParams['figure.figsize'] = [12, 6]\n",
    "plt.rcParams['figure.dpi'] = 100 # 200 e.g. is really fine, but slower"
   ]
  },
  {
   "cell_type": "code",
   "execution_count": null,
   "outputs": [],
   "source": [
    "def subjectmatrix2graphslist(filename, densities):\n",
    "    \"\"\"\n",
    "    Toma un archivo csv con la matriz de input y devuelve una lista de grafos con la densidad de aristas correspondiente\n",
    "    \"\"\"\n",
    "\n",
    "    correlation_matrix = pd.read_csv(\n",
    "        filename,\n",
    "        header=None\n",
    "    )\n",
    "    n = correlation_matrix.shape[0]\n",
    "    correlation_matrix -= np.diag(np.ones(n))\n",
    "    max_links = (n*n-n)//2\n",
    "    tril_idx = np.tril_indices(n,-1)\n",
    "    sorted_correlations = sorted(\n",
    "        correlation_matrix.values[tril_idx].flatten(),\n",
    "        reverse=True\n",
    "    )\n",
    "\n",
    "    Gs = []\n",
    "    for d in densities:\n",
    "        idx = int(d*max_links)\n",
    "        threshold = sorted_correlations[idx]\n",
    "        Gs.append(nx.from_pandas_adjacency(correlation_matrix>=threshold))\n",
    "\n",
    "    return Gs"
   ],
   "metadata": {
    "collapsed": false,
    "pycharm": {
     "name": "#%%\n"
    }
   }
  },
  {
   "cell_type": "code",
   "execution_count": null,
   "outputs": [],
   "source": [
    "def extraer_lista_grafos(tipo_red, densities):\n",
    "\n",
    "    path = r'../resources/DataSujetos' # use your path\n",
    "    all_files = glob.glob(path + \"/{}_suj*.csv\".format(tipo_red))\n",
    "\n",
    "\n",
    "    graphs = {}\n",
    "    for filename in all_files:\n",
    "        Gs = subjectmatrix2graphslist(filename, densities)\n",
    "        name = Path(filename).stem\n",
    "        graphs[name] = Gs\n",
    "\n",
    "    return graphs"
   ],
   "metadata": {
    "collapsed": false,
    "pycharm": {
     "name": "#%%\n"
    }
   }
  },
  {
   "cell_type": "code",
   "execution_count": null,
   "outputs": [],
   "source": [
    "densities = np.linspace(0.0,0.4,10)\n",
    "\n",
    "G_N1 = extraer_lista_grafos(\"N1\", densities)\n",
    "G_N2 = extraer_lista_grafos(\"N2\", densities)\n",
    "G_N3 = extraer_lista_grafos(\"N3\", densities)\n",
    "G_W = extraer_lista_grafos(\"W\", densities)"
   ],
   "metadata": {
    "collapsed": false,
    "pycharm": {
     "name": "#%%\n"
    }
   }
  },
  {
   "cell_type": "code",
   "execution_count": null,
   "outputs": [],
   "source": [
    "pos_N1 = nx.spring_layout(G_N1,k=0.2)\n",
    "pos_N2 = nx.spring_layout(G_N2,k=0.2)\n",
    "pos_N3 = nx.spring_layout(G_N3,k=0.2)\n",
    "pos_W = nx.spring_layout(G_W,k=0.2)"
   ],
   "metadata": {
    "collapsed": false,
    "pycharm": {
     "name": "#%%\n"
    }
   }
  },
  {
   "cell_type": "code",
   "execution_count": null,
   "outputs": [],
   "source": [
    "modulos = community.community_louvain.best_partition(G_N1)\n",
    "values_N1 = [v for n,v in modulos.items()]\n",
    "nx.draw(\n",
    "    G_N1,\n",
    "    pos=pos_N1,\n",
    "    with_labels=True,\n",
    "    cmap=plt.cm.tab10,\n",
    "    font_weight='bold',\n",
    "    node_color = values_N1,\n",
    "    font_color='white',\n",
    "    edge_color='gray'\n",
    ")"
   ],
   "metadata": {
    "collapsed": false,
    "pycharm": {
     "name": "#%%\n"
    }
   }
  },
  {
   "cell_type": "code",
   "execution_count": null,
   "outputs": [],
   "source": [
    "def partition_set_to_dict(m):\n",
    "    d = {}\n",
    "    for i,c in enumerate(m):\n",
    "        for n in c:\n",
    "            d[n] = i\n",
    "    return d"
   ],
   "metadata": {
    "collapsed": false,
    "pycharm": {
     "name": "#%%\n"
    }
   }
  },
  {
   "cell_type": "code",
   "execution_count": null,
   "outputs": [],
   "source": [
    "modulos = nx.community.girvan_newman(G_N1)\n",
    "modulos = list(modulos)\n",
    "modularity = []\n",
    "for m in modulos:\n",
    "    modularity.append(\n",
    "        community.modularity(\n",
    "            partition_set_to_dict(m),\n",
    "            G_N1\n",
    "        )\n",
    "    )\n",
    "plt.plot(modularity)\n",
    "plt.xlabel('Diferentes particiones')\n",
    "plt.ylabel('Coeficiente de Modularidad')\n",
    "idx = np.argmax(modularity)\n",
    "m = modulos[idx]"
   ],
   "metadata": {
    "collapsed": false,
    "pycharm": {
     "name": "#%%\n"
    }
   }
  },
  {
   "cell_type": "code",
   "execution_count": null,
   "outputs": [],
   "source": [
    "plt.figure()\n",
    "values = [v for n,v in partition_set_to_dict(m).items()]\n",
    "nx.draw(\n",
    "    G_N1,\n",
    "    pos=pos,\n",
    "    with_labels=True,\n",
    "    cmap=plt.cm.tab10,\n",
    "    font_weight='bold',\n",
    "    node_color = values,\n",
    "    font_color='white',\n",
    "    edge_color='gray'\n",
    ")"
   ],
   "metadata": {
    "collapsed": false,
    "pycharm": {
     "name": "#%%\n"
    }
   }
  },
  {
   "cell_type": "code",
   "execution_count": null,
   "outputs": [],
   "source": [
    "itero = 20\n",
    "R_mod=[]\n",
    "R_num=[]\n",
    "\n",
    "for i in range(itero):\n",
    "    G_R = nx.gnm_random_graph(G_W.number_of_nodes(),G_W.number_of_edges())\n",
    "    modulos_R_L = community.best_partition(G_R)\n",
    "    R_mod.append(community.modularity(modulos_R_L,G_R))\n",
    "    R_num.append(max(modulos_R_L.values())+1)\n",
    "\n",
    "print(\"ended\")"
   ],
   "metadata": {
    "collapsed": false,
    "pycharm": {
     "name": "#%%\n"
    }
   }
  },
  {
   "cell_type": "code",
   "execution_count": null,
   "outputs": [],
   "source": [
    "  def randomize_by_edge_swaps(graph , num_iterations):\n",
    "\n",
    "        newgraph = graph.copy()\n",
    "        edge_list = list(newgraph.edges())\n",
    "\n",
    "        num_edges = len(edge_list)\n",
    "        total_iterations = num_edges * num_iterations\n",
    "\n",
    "        for i in range(total_iterations):\n",
    "            rand_index1 = int(round(random.random() * (num_edges - 1)))\n",
    "            rand_index2 = int(round(random.random() * (num_edges - 1)))\n",
    "            original_edge1 = edge_list[rand_index1]\n",
    "            original_edge2 = edge_list[rand_index2]\n",
    "            head1, tail1 = original_edge1\n",
    "            head2, tail2 = original_edge2\n",
    "\n",
    "            if random.random() >= 0.5:\n",
    "                head1, tail1 = tail1, head1\n",
    "\n",
    "\n",
    "            if head1 == tail2 or head2 == tail1:\n",
    "                continue\n",
    "\n",
    "            if newgraph.has_edge(head1, tail2) or newgraph.has_edge(\n",
    "                    head2, tail1):\n",
    "                continue\n",
    "\n",
    "            # Suceeded checks, perform the swap\n",
    "            original_edge1_data = newgraph[head1][tail1]\n",
    "            original_edge2_data = newgraph[head2][tail2]\n",
    "\n",
    "            newgraph.remove_edges_from((original_edge1, original_edge2))\n",
    "\n",
    "            new_edge1 = (head1, tail2, original_edge1_data)\n",
    "            new_edge2 = (head2, tail1, original_edge2_data)\n",
    "            newgraph.add_edges_from((new_edge1, new_edge2))\n",
    "\n",
    "            # Now update the entries at the indices randomly selected\n",
    "            edge_list[rand_index1] = (head1, tail2)\n",
    "            edge_list[rand_index2] = (head2, tail1)\n",
    "\n",
    "        assert len(newgraph.edges()) == num_edges\n",
    "        return newgraph"
   ],
   "metadata": {
    "collapsed": false,
    "pycharm": {
     "name": "#%%\n"
    }
   }
  }
 ],
 "metadata": {
  "kernelspec": {
   "display_name": "Python 3",
   "language": "python",
   "name": "python3"
  },
  "language_info": {
   "codemirror_mode": {
    "name": "ipython",
    "version": 2
   },
   "file_extension": ".py",
   "mimetype": "text/x-python",
   "name": "python",
   "nbconvert_exporter": "python",
   "pygments_lexer": "ipython2",
   "version": "2.7.6"
  }
 },
 "nbformat": 4,
 "nbformat_minor": 0
}