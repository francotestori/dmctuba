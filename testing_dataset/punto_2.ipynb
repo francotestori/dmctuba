{
 "cells": [
  {
   "cell_type": "code",
   "execution_count": 28,
   "metadata": {},
   "outputs": [],
   "source": [
    "import numpy as np\n",
    "import pandas as pd\n",
    "import matplotlib.pyplot as plt\n",
    "import seaborn as sns\n",
    "import networkx as nx\n",
    "import matplotlib.cm as mplcm\n",
    "import matplotlib.colors as colors\n",
    "import bct\n",
    "import community\n",
    "from pathlib import Path\n",
    "import glob\n",
    "import random\n",
    "\n",
    "from sklearn.metrics import adjusted_rand_score\n",
    "\n",
    "%matplotlib inline\n",
    "\n",
    "# Styles\n",
    "sns.set_context('poster')\n",
    "sns.set_style('darkgrid')\n",
    "\n",
    "plt.rcParams['figure.figsize'] = [12, 6]\n",
    "plt.rcParams['figure.dpi'] = 100 # 200 e.g. is really fine, but slower"
   ]
  },
  {
   "cell_type": "code",
   "execution_count": 2,
   "metadata": {
    "pycharm": {
     "name": "#%%\n"
    }
   },
   "outputs": [],
   "source": [
    "def subjectmatrix2graphslist(filename, densities):\n",
    "    \"\"\"\n",
    "    Toma un archivo csv con la matriz de input y devuelve una lista de grafos con la densidad de aristas correspondiente\n",
    "    \"\"\"\n",
    "\n",
    "    correlation_matrix = pd.read_csv(\n",
    "        filename,\n",
    "        header=None\n",
    "    )\n",
    "    n = correlation_matrix.shape[0]\n",
    "    correlation_matrix -= np.diag(np.ones(n))\n",
    "    max_links = (n*n-n)//2\n",
    "    tril_idx = np.tril_indices(n,-1)\n",
    "    sorted_correlations = sorted(\n",
    "        correlation_matrix.values[tril_idx].flatten(),\n",
    "        reverse=True\n",
    "    )\n",
    "\n",
    "    Gs = []\n",
    "    for d in densities:\n",
    "        idx = int(d*max_links)\n",
    "        threshold = sorted_correlations[idx]\n",
    "        Gs.append(nx.from_pandas_adjacency(correlation_matrix>=threshold))\n",
    "\n",
    "    return Gs"
   ]
  },
  {
   "cell_type": "code",
   "execution_count": 3,
   "metadata": {
    "pycharm": {
     "name": "#%%\n"
    }
   },
   "outputs": [],
   "source": [
    "def extraer_lista_grafos(tipo_red, densities):\n",
    "\n",
    "    path = r'../resources/DataSujetos' # use your path\n",
    "    all_files = glob.glob(path + \"/{}_suj*.csv\".format(tipo_red))\n",
    "\n",
    "\n",
    "    graphs = {}\n",
    "    for filename in all_files:\n",
    "        Gs = subjectmatrix2graphslist(filename, densities)\n",
    "        name = Path(filename).stem\n",
    "        graphs[name] = Gs\n",
    "\n",
    "    return graphs"
   ]
  },
  {
   "cell_type": "code",
   "execution_count": 4,
   "metadata": {
    "pycharm": {
     "name": "#%%\n"
    }
   },
   "outputs": [],
   "source": [
    "densities = np.linspace(0.01,0.4,10)\n",
    "\n",
    "G_N1 = extraer_lista_grafos(\"N1\", densities)\n",
    "G_N2 = extraer_lista_grafos(\"N2\", densities)\n",
    "G_N3 = extraer_lista_grafos(\"N3\", densities)\n",
    "G_W = extraer_lista_grafos(\"W\", densities)"
   ]
  },
  {
   "cell_type": "code",
   "execution_count": 24,
   "metadata": {
    "pycharm": {
     "name": "#%%\n"
    }
   },
   "outputs": [],
   "source": [
    "def get_modularity(graphs):\n",
    "    modularity = []\n",
    "    for name, Gs in graphs.items():\n",
    "        modularity_ = [community.community_louvain.modularity(community.community_louvain.best_partition(G),G) for G in Gs]\n",
    "        modularity.append(modularity_)\n",
    "    modularity = np.vstack(modularity)\n",
    "    return modularity"
   ]
  },
  {
   "cell_type": "code",
   "execution_count": 25,
   "metadata": {
    "pycharm": {
     "name": "#%%\n"
    }
   },
   "outputs": [],
   "source": [
    "def get_number_of_modules(graphs):\n",
    "    number_of_modules = []\n",
    "    for name, Gs in graphs.items():\n",
    "        number_of_modules_ = [len(set(list(community.community_louvain.best_partition(G).values()))) for G in Gs]\n",
    "        number_of_modules.append(number_of_modules_)\n",
    "    number_of_modules = np.vstack(number_of_modules)\n",
    "    return number_of_modules"
   ]
  },
  {
   "cell_type": "code",
   "execution_count": 26,
   "metadata": {
    "pycharm": {
     "name": "#%%\n"
    }
   },
   "outputs": [],
   "source": [
    "N1_modularity = get_modularity(G_N1)\n",
    "N1_number_of_modules = get_number_of_modules(G_N1)\n",
    "\n",
    "N2_modularity = get_modularity(G_N2)\n",
    "N2_number_of_modules = get_number_of_modules(G_N2)\n",
    "\n",
    "N3_modularity = get_modularity(G_N3)\n",
    "N3_number_of_modules = get_number_of_modules(G_N3)\n",
    "\n",
    "W_modularity = get_modularity(G_W)\n",
    "W_number_of_modules = get_number_of_modules(G_W)\n"
   ]
  },
  {
   "cell_type": "code",
   "execution_count": 29,
   "metadata": {
    "pycharm": {
     "name": "#%%\n"
    }
   },
   "outputs": [
    {
     "ename": "ValueError",
     "evalue": "A graph without link has an undefined modularity",
     "output_type": "error",
     "traceback": [
      "\u001B[0;31m---------------------------------------------------------------------------\u001B[0m",
      "\u001B[0;31mValueError\u001B[0m                                Traceback (most recent call last)",
      "\u001B[0;32m<ipython-input-29-3b09d3ebb456>\u001B[0m in \u001B[0;36m<module>\u001B[0;34m()\u001B[0m\n\u001B[1;32m      8\u001B[0m     \u001B[0mrandom_graphs\u001B[0m\u001B[0;34m[\u001B[0m\u001B[0mi\u001B[0m\u001B[0;34m]\u001B[0m \u001B[0;34m=\u001B[0m \u001B[0mgraphs_\u001B[0m\u001B[0;34m\u001B[0m\u001B[0m\n\u001B[1;32m      9\u001B[0m \u001B[0;34m\u001B[0m\u001B[0m\n\u001B[0;32m---> 10\u001B[0;31m \u001B[0mrandom_modularity\u001B[0m \u001B[0;34m=\u001B[0m \u001B[0mget_modularity\u001B[0m\u001B[0;34m(\u001B[0m\u001B[0mrandom_graphs\u001B[0m\u001B[0;34m)\u001B[0m\u001B[0;34m\u001B[0m\u001B[0m\n\u001B[0m\u001B[1;32m     11\u001B[0m \u001B[0mrandom_number_of_modules\u001B[0m \u001B[0;34m=\u001B[0m \u001B[0mget_number_of_modules\u001B[0m\u001B[0;34m(\u001B[0m\u001B[0mrandom_graphs\u001B[0m\u001B[0;34m)\u001B[0m\u001B[0;34m\u001B[0m\u001B[0m\n",
      "\u001B[0;32m<ipython-input-24-d27df92ed707>\u001B[0m in \u001B[0;36mget_modularity\u001B[0;34m(graphs)\u001B[0m\n\u001B[1;32m      2\u001B[0m     \u001B[0mmodularity\u001B[0m \u001B[0;34m=\u001B[0m \u001B[0;34m[\u001B[0m\u001B[0;34m]\u001B[0m\u001B[0;34m\u001B[0m\u001B[0m\n\u001B[1;32m      3\u001B[0m     \u001B[0;32mfor\u001B[0m \u001B[0mname\u001B[0m\u001B[0;34m,\u001B[0m \u001B[0mGs\u001B[0m \u001B[0;32min\u001B[0m \u001B[0mgraphs\u001B[0m\u001B[0;34m.\u001B[0m\u001B[0mitems\u001B[0m\u001B[0;34m(\u001B[0m\u001B[0;34m)\u001B[0m\u001B[0;34m:\u001B[0m\u001B[0;34m\u001B[0m\u001B[0m\n\u001B[0;32m----> 4\u001B[0;31m         \u001B[0mmodularity_\u001B[0m \u001B[0;34m=\u001B[0m \u001B[0;34m[\u001B[0m\u001B[0mcommunity\u001B[0m\u001B[0;34m.\u001B[0m\u001B[0mcommunity_louvain\u001B[0m\u001B[0;34m.\u001B[0m\u001B[0mmodularity\u001B[0m\u001B[0;34m(\u001B[0m\u001B[0mcommunity\u001B[0m\u001B[0;34m.\u001B[0m\u001B[0mcommunity_louvain\u001B[0m\u001B[0;34m.\u001B[0m\u001B[0mbest_partition\u001B[0m\u001B[0;34m(\u001B[0m\u001B[0mG\u001B[0m\u001B[0;34m)\u001B[0m\u001B[0;34m,\u001B[0m\u001B[0mG\u001B[0m\u001B[0;34m)\u001B[0m \u001B[0;32mfor\u001B[0m \u001B[0mG\u001B[0m \u001B[0;32min\u001B[0m \u001B[0mGs\u001B[0m\u001B[0;34m]\u001B[0m\u001B[0;34m\u001B[0m\u001B[0m\n\u001B[0m\u001B[1;32m      5\u001B[0m         \u001B[0mmodularity\u001B[0m\u001B[0;34m.\u001B[0m\u001B[0mappend\u001B[0m\u001B[0;34m(\u001B[0m\u001B[0mmodularity_\u001B[0m\u001B[0;34m)\u001B[0m\u001B[0;34m\u001B[0m\u001B[0m\n\u001B[1;32m      6\u001B[0m     \u001B[0mmodularity\u001B[0m \u001B[0;34m=\u001B[0m \u001B[0mnp\u001B[0m\u001B[0;34m.\u001B[0m\u001B[0mvstack\u001B[0m\u001B[0;34m(\u001B[0m\u001B[0mmodularity\u001B[0m\u001B[0;34m)\u001B[0m\u001B[0;34m\u001B[0m\u001B[0m\n",
      "\u001B[0;32m<ipython-input-24-d27df92ed707>\u001B[0m in \u001B[0;36m<listcomp>\u001B[0;34m(.0)\u001B[0m\n\u001B[1;32m      2\u001B[0m     \u001B[0mmodularity\u001B[0m \u001B[0;34m=\u001B[0m \u001B[0;34m[\u001B[0m\u001B[0;34m]\u001B[0m\u001B[0;34m\u001B[0m\u001B[0m\n\u001B[1;32m      3\u001B[0m     \u001B[0;32mfor\u001B[0m \u001B[0mname\u001B[0m\u001B[0;34m,\u001B[0m \u001B[0mGs\u001B[0m \u001B[0;32min\u001B[0m \u001B[0mgraphs\u001B[0m\u001B[0;34m.\u001B[0m\u001B[0mitems\u001B[0m\u001B[0;34m(\u001B[0m\u001B[0;34m)\u001B[0m\u001B[0;34m:\u001B[0m\u001B[0;34m\u001B[0m\u001B[0m\n\u001B[0;32m----> 4\u001B[0;31m         \u001B[0mmodularity_\u001B[0m \u001B[0;34m=\u001B[0m \u001B[0;34m[\u001B[0m\u001B[0mcommunity\u001B[0m\u001B[0;34m.\u001B[0m\u001B[0mcommunity_louvain\u001B[0m\u001B[0;34m.\u001B[0m\u001B[0mmodularity\u001B[0m\u001B[0;34m(\u001B[0m\u001B[0mcommunity\u001B[0m\u001B[0;34m.\u001B[0m\u001B[0mcommunity_louvain\u001B[0m\u001B[0;34m.\u001B[0m\u001B[0mbest_partition\u001B[0m\u001B[0;34m(\u001B[0m\u001B[0mG\u001B[0m\u001B[0;34m)\u001B[0m\u001B[0;34m,\u001B[0m\u001B[0mG\u001B[0m\u001B[0;34m)\u001B[0m \u001B[0;32mfor\u001B[0m \u001B[0mG\u001B[0m \u001B[0;32min\u001B[0m \u001B[0mGs\u001B[0m\u001B[0;34m]\u001B[0m\u001B[0;34m\u001B[0m\u001B[0m\n\u001B[0m\u001B[1;32m      5\u001B[0m         \u001B[0mmodularity\u001B[0m\u001B[0;34m.\u001B[0m\u001B[0mappend\u001B[0m\u001B[0;34m(\u001B[0m\u001B[0mmodularity_\u001B[0m\u001B[0;34m)\u001B[0m\u001B[0;34m\u001B[0m\u001B[0m\n\u001B[1;32m      6\u001B[0m     \u001B[0mmodularity\u001B[0m \u001B[0;34m=\u001B[0m \u001B[0mnp\u001B[0m\u001B[0;34m.\u001B[0m\u001B[0mvstack\u001B[0m\u001B[0;34m(\u001B[0m\u001B[0mmodularity\u001B[0m\u001B[0;34m)\u001B[0m\u001B[0;34m\u001B[0m\u001B[0m\n",
      "\u001B[0;32m/Users/franco.testori/opt/anaconda3/envs/dmctuba_02/lib/python3.5/site-packages/community/community_louvain.py\u001B[0m in \u001B[0;36mmodularity\u001B[0;34m(partition, graph, weight)\u001B[0m\n\u001B[1;32m    139\u001B[0m     \u001B[0mlinks\u001B[0m \u001B[0;34m=\u001B[0m \u001B[0mgraph\u001B[0m\u001B[0;34m.\u001B[0m\u001B[0msize\u001B[0m\u001B[0;34m(\u001B[0m\u001B[0mweight\u001B[0m\u001B[0;34m=\u001B[0m\u001B[0mweight\u001B[0m\u001B[0;34m)\u001B[0m\u001B[0;34m\u001B[0m\u001B[0m\n\u001B[1;32m    140\u001B[0m     \u001B[0;32mif\u001B[0m \u001B[0mlinks\u001B[0m \u001B[0;34m==\u001B[0m \u001B[0;36m0\u001B[0m\u001B[0;34m:\u001B[0m\u001B[0;34m\u001B[0m\u001B[0m\n\u001B[0;32m--> 141\u001B[0;31m         \u001B[0;32mraise\u001B[0m \u001B[0mValueError\u001B[0m\u001B[0;34m(\u001B[0m\u001B[0;34m\"A graph without link has an undefined modularity\"\u001B[0m\u001B[0;34m)\u001B[0m\u001B[0;34m\u001B[0m\u001B[0m\n\u001B[0m\u001B[1;32m    142\u001B[0m \u001B[0;34m\u001B[0m\u001B[0m\n\u001B[1;32m    143\u001B[0m     \u001B[0;32mfor\u001B[0m \u001B[0mnode\u001B[0m \u001B[0;32min\u001B[0m \u001B[0mgraph\u001B[0m\u001B[0;34m:\u001B[0m\u001B[0;34m\u001B[0m\u001B[0m\n",
      "\u001B[0;31mValueError\u001B[0m: A graph without link has an undefined modularity"
     ]
    }
   ],
   "source": [
    "nodes = 116\n",
    "max_links = (nodes*nodes-nodes)//2\n",
    "\n",
    "repetitions = 18\n",
    "random_graphs = {}\n",
    "for i in range(repetitions):\n",
    "    Gs = []\n",
    "    for d in densities:\n",
    "        G = nx.gnm_random_graph(nodes, max_links * d, seed=i)\n",
    "        Gs.append(G)\n",
    "    graphs_ = Gs\n",
    "    random_graphs[i] = graphs_\n",
    "\n",
    "random_modularity = get_modularity(random_graphs)\n",
    "random_number_of_modules = get_number_of_modules(random_graphs)"
   ]
  },
  {
   "cell_type": "code",
   "execution_count": null,
   "metadata": {
    "pycharm": {
     "name": "#%%\n"
    }
   },
   "outputs": [],
   "source": [
    "plt.plot(densities, N1_modularity.mean(0), label = \"N1\")\n",
    "plt.plot(densities, random_modularity.mean(0), label = \"Random\")\n",
    "plt.xlabel('Edges density')\n",
    "plt.ylabel('Modularity')\n",
    "plt.legend()\n",
    "plt.show()"
   ]
  },
  {
   "cell_type": "code",
   "execution_count": null,
   "metadata": {
    "pycharm": {
     "name": "#%%\n"
    }
   },
   "outputs": [],
   "source": [
    "plt.plot(densities, N1_modularity.mean(0), label = \"N1\")\n",
    "plt.plot(densities, random_number_of_modules.mean(0), label = \"Random\")\n",
    "plt.xlabel('Edges density')\n",
    "plt.ylabel('Number of Modules')\n",
    "plt.legend()\n",
    "plt.show()"
   ]
  },
  {
   "cell_type": "code",
   "execution_count": null,
   "metadata": {
    "pycharm": {
     "name": "#%%\n"
    }
   },
   "outputs": [],
   "source": [
    "plt.plot(densities, N2_modularity.mean(0), label = \"N2\")\n",
    "plt.plot(densities, random_modularity.mean(0), label = \"Random\")\n",
    "plt.xlabel('Edges density')\n",
    "plt.ylabel('Modularity')\n",
    "plt.legend()\n",
    "plt.show()"
   ]
  },
  {
   "cell_type": "code",
   "execution_count": null,
   "metadata": {
    "pycharm": {
     "name": "#%%\n"
    }
   },
   "outputs": [],
   "source": [
    "plt.plot(densities, N2_modularity.mean(0), label = \"N2\")\n",
    "plt.plot(densities, random_number_of_modules.mean(0), label = \"Random\")\n",
    "plt.xlabel('Edges density')\n",
    "plt.ylabel('Number of Modules')\n",
    "plt.legend()\n",
    "plt.show()"
   ]
  },
  {
   "cell_type": "code",
   "execution_count": null,
   "metadata": {
    "pycharm": {
     "name": "#%%\n"
    }
   },
   "outputs": [],
   "source": [
    "plt.plot(densities, N3_modularity.mean(0), label = \"N3\")\n",
    "plt.plot(densities, random_modularity.mean(0), label = \"Random\")\n",
    "plt.xlabel('Edges density')\n",
    "plt.ylabel('Modularity')\n",
    "plt.legend()\n",
    "plt.show()"
   ]
  },
  {
   "cell_type": "code",
   "execution_count": null,
   "metadata": {
    "pycharm": {
     "name": "#%%\n"
    }
   },
   "outputs": [],
   "source": [
    "plt.plot(densities, N3_modularity.mean(0), label = \"N3\")\n",
    "plt.plot(densities, random_number_of_modules.mean(0), label = \"Random\")\n",
    "plt.xlabel('Edges density')\n",
    "plt.ylabel('Number of Modules')\n",
    "plt.legend()\n",
    "plt.show()"
   ]
  },
  {
   "cell_type": "code",
   "execution_count": 15,
   "metadata": {
    "pycharm": {
     "name": "#%%\n"
    }
   },
   "outputs": [
    {
     "data": {
      "image/png": "[encoded data removed]",
      "text/plain": [
       "<Figure size 432x288 with 1 Axes>"
      ]
     },
     "metadata": {
      "needs_background": "light"
     },
     "output_type": "display_data"
    }
   ],
   "source": [
    "plt.plot(densities, W_modularity.mean(0), label = \"W\")\n",
    "plt.plot(densities, random_modularity.mean(0), label = \"Random\")\n",
    "plt.xlabel('Edges density')\n",
    "plt.ylabel('Modularity')\n",
    "plt.legend()\n",
    "plt.show()"
   ]
  },
  {
   "cell_type": "code",
   "execution_count": 16,
   "metadata": {
    "pycharm": {
     "name": "#%%\n"
    }
   },
   "outputs": [
    {
     "data": {
      "image/png": "[encoded data removed]",
      "text/plain": [
       "<Figure size 432x288 with 1 Axes>"
      ]
     },
     "metadata": {
      "needs_background": "light"
     },
     "output_type": "display_data"
    }
   ],
   "source": [
    "plt.plot(densities, W_modularity.mean(0), label = \"W\")\n",
    "plt.plot(densities, random_number_of_modules.mean(0), label = \"Random\")\n",
    "plt.xlabel('Edges density')\n",
    "plt.ylabel('Number of Modules')\n",
    "plt.legend()\n",
    "plt.show()"
   ]
  },
  {
   "cell_type": "code",
   "execution_count": null,
   "metadata": {
    "pycharm": {
     "name": "#%%\n"
    }
   },
   "outputs": [],
   "source": []
  },
  {
   "cell_type": "code",
   "execution_count": null,
   "metadata": {
    "pycharm": {
     "name": "#%%\n"
    }
   },
   "outputs": [],
   "source": []
  },
  {
   "cell_type": "code",
   "execution_count": null,
   "metadata": {
    "pycharm": {
     "name": "#%%\n"
    }
   },
   "outputs": [],
   "source": []
  },
  {
   "cell_type": "code",
   "execution_count": null,
   "metadata": {
    "pycharm": {
     "name": "#%%\n"
    }
   },
   "outputs": [],
   "source": []
  }
 ],
 "metadata": {
  "kernelspec": {
   "display_name": "Python 3",
   "language": "python",
   "name": "python3"
  },
  "language_info": {
   "codemirror_mode": {
    "name": "ipython",
    "version": 3
   },
   "file_extension": ".py",
   "mimetype": "text/x-python",
   "name": "python",
   "nbconvert_exporter": "python",
   "pygments_lexer": "ipython3",
   "version": "3.5.6"
  }
 },
 "nbformat": 4,
 "nbformat_minor": 1
}