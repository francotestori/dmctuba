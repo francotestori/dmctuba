{
 "cells": [
  {
   "cell_type": "code",
   "execution_count": 66,
   "metadata": {},
   "outputs": [],
   "source": [
    "import numpy as np\n",
    "import pandas as pd\n",
    "from scipy import spatial, stats, cluster\n",
    "import matplotlib.pyplot as plt\n",
    "import seaborn as sns\n",
    "import nibabel as nib\n",
    "from nilearn import plotting, input_data\n",
    "from nilearn.datasets import fetch_atlas_schaefer_2018\n",
    "import networkx as nx\n",
    "import matplotlib.cm as mplcm\n",
    "import matplotlib.colors as colors\n",
    "import bct\n",
    "import glob\n",
    "import community as community_louvain\n",
    "import matplotlib.cm as cm\n",
    "from sklearn.metrics import adjusted_rand_score\n",
    "import os\n",
    "import random\n",
    "\n",
    "\n",
    "%matplotlib inline\n",
    "\n",
    "# Styles\n",
    "sns.set_context('poster')\n",
    "sns.set_style('darkgrid')\n",
    "\n",
    "plt.rcParams['figure.figsize'] = [12, 6]\n",
    "plt.rcParams['figure.dpi'] = 100 # 200 e.g. is really fine, but slower\n"
   ]
  },
  {
   "cell_type": "code",
   "execution_count": 2,
   "metadata": {},
   "outputs": [
    {
     "name": "stdout",
     "output_type": "stream",
     "text": [
      "   reindex               name  mark   region side region_side\n",
      "0        1       Precentral_L  2001  Central    L   Central_L\n",
      "1        2       Precentral_R  2002  Central    R   Central_R\n",
      "2        3      Frontal_Sup_L  2101  Frontal    L   Frontal_L\n",
      "3        4      Frontal_Sup_R  2102  Frontal    R   Frontal_R\n",
      "4        5  Frontal_Sup_Orb_L  2111  Frontal    L   Frontal_L\n"
     ]
    }
   ],
   "source": [
    "dfLabels = pd.read_csv(\"../resources/aal_extended.csv\",header=None) \n",
    "dfLabels.columns = ['reindex','name','mark','region','side']\n",
    "dfLabels[\"region_side\"] = dfLabels[\"region\"] + \"_\" + dfLabels[\"side\"]\n",
    "\n",
    "print(dfLabels.head())\n",
    "\n",
    "labels = dfLabels['name'].values"
   ]
  },
  {
   "cell_type": "code",
   "execution_count": 81,
   "metadata": {},
   "outputs": [
    {
     "data": {
      "text/html": [
       "<div>\n",
       "<style scoped>\n",
       "    .dataframe tbody tr th:only-of-type {\n",
       "        vertical-align: middle;\n",
       "    }\n",
       "\n",
       "    .dataframe tbody tr th {\n",
       "        vertical-align: top;\n",
       "    }\n",
       "\n",
       "    .dataframe thead th {\n",
       "        text-align: right;\n",
       "    }\n",
       "</style>\n",
       "<table border=\"1\" class=\"dataframe\">\n",
       "  <thead>\n",
       "    <tr style=\"text-align: right;\">\n",
       "      <th></th>\n",
       "      <th>N1_mean</th>\n",
       "      <th>N2_mean</th>\n",
       "      <th>N3_mean</th>\n",
       "      <th>W_mean</th>\n",
       "      <th>N1_std</th>\n",
       "      <th>N2_std</th>\n",
       "      <th>N3_std</th>\n",
       "      <th>W_std</th>\n",
       "    </tr>\n",
       "  </thead>\n",
       "  <tbody>\n",
       "    <tr>\n",
       "      <th>0</th>\n",
       "      <td>0.276583</td>\n",
       "      <td>0.20517</td>\n",
       "      <td>0.148965</td>\n",
       "      <td>1.0</td>\n",
       "      <td>0.169944</td>\n",
       "      <td>0.157101</td>\n",
       "      <td>0.14307</td>\n",
       "      <td>0.0</td>\n",
       "    </tr>\n",
       "  </tbody>\n",
       "</table>\n",
       "</div>"
      ],
      "text/plain": [
       "    N1_mean  N2_mean   N3_mean  W_mean    N1_std    N2_std   N3_std  W_std\n",
       "0  0.276583  0.20517  0.148965     1.0  0.169944  0.157101  0.14307    0.0"
      ]
     },
     "execution_count": 81,
     "metadata": {},
     "output_type": "execute_result"
    }
   ],
   "source": [
    "Rand = {\"N1_mean\":[],\n",
    "             \"N2_mean\":[],\n",
    "             \"N3_mean\":[],\n",
    "             \"W_mean\":[],\n",
    "             \"N1_std\":[],\n",
    "             \"N2_std\":[],\n",
    "             \"N3_std\":[],\n",
    "             \"W_std\":[],\n",
    "             }\n",
    "\n",
    "tipo_red=\"W\"\n",
    "sleep_states = ['N1','N2','N3']\n",
    "\n",
    "path = r'../resources/DataSujetos' # use your path\n",
    "all_files = glob.glob(path + f\"/{tipo_red}_suj*.csv\")\n",
    "\n",
    "dict_rand = {}\n",
    "\n",
    "values_obs_dict = {}\n",
    "\n",
    "values_per_dict = {}\n",
    "\n",
    "lists_rand = {}\n",
    "for sleep_state in sleep_states:\n",
    "    lists_rand[sleep_state] = []\n",
    "lists_rand[\"W\"] = []\n",
    "    \n",
    "for filename_W in all_files:\n",
    "    #print(filename_W)\n",
    "    \n",
    "    df = pd.read_csv(filename_W, header=None, index_col=None,)\n",
    "    thresh_cmat = (df.values > .4) * 1.0\n",
    "    label_data = pd.DataFrame({'number': np.arange(len(labels)) + 1, 'region_side': labels})\n",
    "    GW = nx.from_numpy_matrix(thresh_cmat)\n",
    "    GW = nx.relabel_nodes(GW, lambda x: label_data['number'].tolist()[x])\n",
    "    \n",
    "    modulos = community_louvain.best_partition(GW)\n",
    "    values_obs = [v for n,v in modulos.items()]\n",
    "    values_obs_dict[filename_W] = values_obs\n",
    "    \n",
    "    #print({filename_W: set(values_obs)})\n",
    "    rand_score = adjusted_rand_score(values_obs, values_obs)\n",
    "    lists_rand[\"W\"].append(rand_score)\n",
    "\n",
    "\n",
    "    for sleep_state in sleep_states:\n",
    "        filename_Nx = filename_W.replace(\"W_\", sleep_state+\"_\")\n",
    "        \n",
    "        df = pd.read_csv(filename_Nx, header=None, index_col=None,)\n",
    "        thresh_cmat = (df.values > .4) * 1.0\n",
    "        label_data = pd.DataFrame({'number': np.arange(len(labels)) + 1, 'region_side': labels})\n",
    "        GNx = nx.from_numpy_matrix(thresh_cmat)\n",
    "        GNx = nx.relabel_nodes(GNx, lambda x: label_data['number'].tolist()[x])\n",
    "\n",
    "        modulos = community_louvain.best_partition(GNx)\n",
    "        values_per = [v for n,v in modulos.items()]\n",
    "        values_per_dict[filename_Nx] = values_per\n",
    "        #print({filename_W: set(values_obs)})\n",
    "\n",
    "        #print({os.path.basename(filename_Nx):adjusted_rand_score(values_obs, values_per)})\n",
    "        \n",
    "        rand_score = adjusted_rand_score(values_obs, values_per)\n",
    "        \n",
    "        dict_rand[os.path.basename(filename_Nx)] = rand_score\n",
    "        \n",
    "        lists_rand[sleep_state].append(rand_score)\n",
    "        \n",
    "    #break\n",
    "df_real = pd.DataFrame(lists_rand)\n",
    "df_real_desc = df_real.describe()\n",
    "\n",
    "Rand[\"N1_mean\"].append(df_real_desc['N1']['mean'])\n",
    "Rand[\"N2_mean\"].append(df_real_desc['N2']['mean'])\n",
    "Rand[\"N3_mean\"].append(df_real_desc['N3']['mean'])\n",
    "Rand[\"W_mean\"].append(df_real_desc['W']['mean'])\n",
    "Rand[\"N1_std\"].append(df_real_desc['N1']['std'])\n",
    "Rand[\"N2_std\"].append(df_real_desc['N2']['std'])\n",
    "Rand[\"N3_std\"].append(df_real_desc['N3']['std'])\n",
    "Rand[\"W_std\"].append(df_real_desc['W']['std'])\n",
    "\n",
    "df_rand_real = pd.DataFrame(Rand)\n",
    "df_rand_real"
   ]
  },
  {
   "cell_type": "code",
   "execution_count": 102,
   "metadata": {},
   "outputs": [
    {
     "data": {
      "text/plain": [
       "(-0.2, 1.1)"
      ]
     },
     "execution_count": 102,
     "metadata": {},
     "output_type": "execute_result"
    },
    {
     "data": {
      "image/png": "[encoded data removed]",
      "text/plain": [
       "<Figure size 1200x600 with 1 Axes>"
      ]
     },
     "metadata": {},
     "output_type": "display_data"
    }
   ],
   "source": [
    "df_real.boxplot()\n",
    "plt.ylim([-.2,1.1])"
   ]
  },
  {
   "cell_type": "code",
   "execution_count": 103,
   "metadata": {},
   "outputs": [
    {
     "data": {
      "text/plain": [
       "(-0.2, 1.1)"
      ]
     },
     "execution_count": 103,
     "metadata": {},
     "output_type": "execute_result"
    },
    {
     "data": {
      "image/png": "[encoded data removed]",
      "text/plain": [
       "<Figure size 1200x600 with 1 Axes>"
      ]
     },
     "metadata": {},
     "output_type": "display_data"
    }
   ],
   "source": [
    "df_rand_real.boxplot([\"N1_mean\",\"N2_mean\",\"N3_mean\",\"W_mean\"],)\n",
    "plt.ylim([-.2,1.1])"
   ]
  },
  {
   "cell_type": "code",
   "execution_count": 91,
   "metadata": {},
   "outputs": [],
   "source": [
    "values_per_rand = np.random.permutation(values_per_dict[filename_Nx])"
   ]
  },
  {
   "cell_type": "code",
   "execution_count": 94,
   "metadata": {},
   "outputs": [],
   "source": [
    "random.seed(938413)\n",
    "\n",
    "Np = 1000\n",
    "\n",
    "Rand_perm = {\"N1_mean\":[],\n",
    "             \"N2_mean\":[],\n",
    "             \"N3_mean\":[],\n",
    "             \"W_mean\":[],\n",
    "             \"N1_std\":[],\n",
    "             \"N2_std\":[],\n",
    "             \"N3_std\":[],\n",
    "             \"W_std\":[],\n",
    "             }\n",
    "\n",
    "for k in range(Np):\n",
    "    tipo_red=\"W\"\n",
    "    sleep_states = ['N1','N2','N3']\n",
    "\n",
    "    path = r'../resources/DataSujetos' # use your path\n",
    "    all_files = glob.glob(path + f\"/{tipo_red}_suj*.csv\")\n",
    "\n",
    "    lists_rand = {}\n",
    "    for sleep_state in sleep_states:\n",
    "        lists_rand[sleep_state] = []\n",
    "    lists_rand[\"W\"] = []\n",
    "\n",
    "\n",
    "    for filename_W in all_files:\n",
    "        values_obs = values_obs_dict[filename_W]\n",
    "\n",
    "        values_obs_rand = np.random.permutation(values_obs_dict[filename_W])\n",
    "#         values_obs_rand = list(np.random.randint(low = 0,high=4,size=len(values_obs)))\n",
    "        rand_score = adjusted_rand_score(values_obs, values_obs_rand)\n",
    "        lists_rand[\"W\"].append(rand_score)\n",
    "\n",
    "        for sleep_state in sleep_states:\n",
    "            filename_Nx = filename_W.replace(\"W_\", sleep_state+\"_\")\n",
    "            values_per_rand = np.random.permutation(values_per_dict[filename_Nx])\n",
    "#             values_per_rand = list(np.random.randint(low = 0,high=4,size=len(values_obs)))\n",
    "            rand_score = adjusted_rand_score(values_obs, values_per_rand)\n",
    "            lists_rand[sleep_state].append(rand_score)\n",
    "        #break\n",
    "    df_rand = pd.DataFrame(lists_rand)\n",
    "    df_rand_desc = df_rand.describe()\n",
    "    \n",
    "    Rand_perm[\"N1_mean\"].append(df_rand_desc['N1']['mean'])\n",
    "    Rand_perm[\"N2_mean\"].append(df_rand_desc['N2']['mean'])\n",
    "    Rand_perm[\"N3_mean\"].append(df_rand_desc['N3']['mean'])\n",
    "    Rand_perm[\"W_mean\"].append(df_rand_desc['W']['mean'])\n",
    "    Rand_perm[\"N1_std\"].append(df_rand_desc['N1']['std'])\n",
    "    Rand_perm[\"N2_std\"].append(df_rand_desc['N2']['std'])\n",
    "    Rand_perm[\"N3_std\"].append(df_rand_desc['N3']['std'])\n",
    "    Rand_perm[\"W_std\"].append(df_rand_desc['W']['std'])"
   ]
  },
  {
   "cell_type": "code",
   "execution_count": 95,
   "metadata": {},
   "outputs": [
    {
     "data": {
      "text/html": [
       "<div>\n",
       "<style scoped>\n",
       "    .dataframe tbody tr th:only-of-type {\n",
       "        vertical-align: middle;\n",
       "    }\n",
       "\n",
       "    .dataframe tbody tr th {\n",
       "        vertical-align: top;\n",
       "    }\n",
       "\n",
       "    .dataframe thead th {\n",
       "        text-align: right;\n",
       "    }\n",
       "</style>\n",
       "<table border=\"1\" class=\"dataframe\">\n",
       "  <thead>\n",
       "    <tr style=\"text-align: right;\">\n",
       "      <th></th>\n",
       "      <th>N1_mean</th>\n",
       "      <th>N2_mean</th>\n",
       "      <th>N3_mean</th>\n",
       "      <th>W_mean</th>\n",
       "      <th>N1_std</th>\n",
       "      <th>N2_std</th>\n",
       "      <th>N3_std</th>\n",
       "      <th>W_std</th>\n",
       "    </tr>\n",
       "  </thead>\n",
       "  <tbody>\n",
       "    <tr>\n",
       "      <th>0</th>\n",
       "      <td>-0.002382</td>\n",
       "      <td>0.000965</td>\n",
       "      <td>0.000185</td>\n",
       "      <td>-0.003849</td>\n",
       "      <td>0.012796</td>\n",
       "      <td>0.014244</td>\n",
       "      <td>0.016686</td>\n",
       "      <td>0.013567</td>\n",
       "    </tr>\n",
       "    <tr>\n",
       "      <th>1</th>\n",
       "      <td>-0.006127</td>\n",
       "      <td>-0.002182</td>\n",
       "      <td>-0.000005</td>\n",
       "      <td>-0.005282</td>\n",
       "      <td>0.006953</td>\n",
       "      <td>0.014052</td>\n",
       "      <td>0.016389</td>\n",
       "      <td>0.014649</td>\n",
       "    </tr>\n",
       "    <tr>\n",
       "      <th>2</th>\n",
       "      <td>-0.004791</td>\n",
       "      <td>0.002677</td>\n",
       "      <td>-0.000793</td>\n",
       "      <td>0.001344</td>\n",
       "      <td>0.006812</td>\n",
       "      <td>0.018447</td>\n",
       "      <td>0.014727</td>\n",
       "      <td>0.016802</td>\n",
       "    </tr>\n",
       "    <tr>\n",
       "      <th>3</th>\n",
       "      <td>-0.001986</td>\n",
       "      <td>-0.003924</td>\n",
       "      <td>-0.001030</td>\n",
       "      <td>0.000703</td>\n",
       "      <td>0.013782</td>\n",
       "      <td>0.013270</td>\n",
       "      <td>0.010868</td>\n",
       "      <td>0.014583</td>\n",
       "    </tr>\n",
       "    <tr>\n",
       "      <th>4</th>\n",
       "      <td>-0.002494</td>\n",
       "      <td>0.004623</td>\n",
       "      <td>-0.001006</td>\n",
       "      <td>0.000354</td>\n",
       "      <td>0.011146</td>\n",
       "      <td>0.022996</td>\n",
       "      <td>0.009501</td>\n",
       "      <td>0.015043</td>\n",
       "    </tr>\n",
       "    <tr>\n",
       "      <th>...</th>\n",
       "      <td>...</td>\n",
       "      <td>...</td>\n",
       "      <td>...</td>\n",
       "      <td>...</td>\n",
       "      <td>...</td>\n",
       "      <td>...</td>\n",
       "      <td>...</td>\n",
       "      <td>...</td>\n",
       "    </tr>\n",
       "    <tr>\n",
       "      <th>995</th>\n",
       "      <td>0.002468</td>\n",
       "      <td>0.001511</td>\n",
       "      <td>-0.000152</td>\n",
       "      <td>0.000007</td>\n",
       "      <td>0.017196</td>\n",
       "      <td>0.009759</td>\n",
       "      <td>0.013588</td>\n",
       "      <td>0.016847</td>\n",
       "    </tr>\n",
       "    <tr>\n",
       "      <th>996</th>\n",
       "      <td>-0.005173</td>\n",
       "      <td>-0.002412</td>\n",
       "      <td>0.001347</td>\n",
       "      <td>-0.005563</td>\n",
       "      <td>0.009873</td>\n",
       "      <td>0.015311</td>\n",
       "      <td>0.017741</td>\n",
       "      <td>0.016245</td>\n",
       "    </tr>\n",
       "    <tr>\n",
       "      <th>997</th>\n",
       "      <td>0.000509</td>\n",
       "      <td>0.002377</td>\n",
       "      <td>-0.005179</td>\n",
       "      <td>0.000686</td>\n",
       "      <td>0.014993</td>\n",
       "      <td>0.015287</td>\n",
       "      <td>0.011108</td>\n",
       "      <td>0.014105</td>\n",
       "    </tr>\n",
       "    <tr>\n",
       "      <th>998</th>\n",
       "      <td>0.003371</td>\n",
       "      <td>-0.001123</td>\n",
       "      <td>-0.000166</td>\n",
       "      <td>-0.001871</td>\n",
       "      <td>0.017405</td>\n",
       "      <td>0.010490</td>\n",
       "      <td>0.012103</td>\n",
       "      <td>0.011104</td>\n",
       "    </tr>\n",
       "    <tr>\n",
       "      <th>999</th>\n",
       "      <td>-0.005226</td>\n",
       "      <td>-0.001365</td>\n",
       "      <td>-0.001626</td>\n",
       "      <td>0.007934</td>\n",
       "      <td>0.011792</td>\n",
       "      <td>0.014306</td>\n",
       "      <td>0.015392</td>\n",
       "      <td>0.022871</td>\n",
       "    </tr>\n",
       "  </tbody>\n",
       "</table>\n",
       "<p>1000 rows × 8 columns</p>\n",
       "</div>"
      ],
      "text/plain": [
       "      N1_mean   N2_mean   N3_mean    W_mean    N1_std    N2_std    N3_std  \\\n",
       "0   -0.002382  0.000965  0.000185 -0.003849  0.012796  0.014244  0.016686   \n",
       "1   -0.006127 -0.002182 -0.000005 -0.005282  0.006953  0.014052  0.016389   \n",
       "2   -0.004791  0.002677 -0.000793  0.001344  0.006812  0.018447  0.014727   \n",
       "3   -0.001986 -0.003924 -0.001030  0.000703  0.013782  0.013270  0.010868   \n",
       "4   -0.002494  0.004623 -0.001006  0.000354  0.011146  0.022996  0.009501   \n",
       "..        ...       ...       ...       ...       ...       ...       ...   \n",
       "995  0.002468  0.001511 -0.000152  0.000007  0.017196  0.009759  0.013588   \n",
       "996 -0.005173 -0.002412  0.001347 -0.005563  0.009873  0.015311  0.017741   \n",
       "997  0.000509  0.002377 -0.005179  0.000686  0.014993  0.015287  0.011108   \n",
       "998  0.003371 -0.001123 -0.000166 -0.001871  0.017405  0.010490  0.012103   \n",
       "999 -0.005226 -0.001365 -0.001626  0.007934  0.011792  0.014306  0.015392   \n",
       "\n",
       "        W_std  \n",
       "0    0.013567  \n",
       "1    0.014649  \n",
       "2    0.016802  \n",
       "3    0.014583  \n",
       "4    0.015043  \n",
       "..        ...  \n",
       "995  0.016847  \n",
       "996  0.016245  \n",
       "997  0.014105  \n",
       "998  0.011104  \n",
       "999  0.022871  \n",
       "\n",
       "[1000 rows x 8 columns]"
      ]
     },
     "execution_count": 95,
     "metadata": {},
     "output_type": "execute_result"
    }
   ],
   "source": [
    "df_rand_perm = pd.DataFrame(Rand_perm)\n",
    "df_rand_perm"
   ]
  },
  {
   "cell_type": "code",
   "execution_count": 104,
   "metadata": {},
   "outputs": [
    {
     "data": {
      "text/plain": [
       "(-0.2, 1.1)"
      ]
     },
     "execution_count": 104,
     "metadata": {},
     "output_type": "execute_result"
    },
    {
     "data": {
      "image/png": "[encoded data removed]",
      "text/plain": [
       "<Figure size 1200x600 with 1 Axes>"
      ]
     },
     "metadata": {},
     "output_type": "display_data"
    }
   ],
   "source": [
    "df_rand_perm.boxplot([\"N1_mean\",\"N2_mean\",\"N3_mean\",\"W_mean\"])\n",
    "plt.ylim([-.2,1.1])"
   ]
  },
  {
   "cell_type": "raw",
   "metadata": {},
   "source": [
    "El p-valor se calcula como la cantidad de permutaciones que dieron RIp > RIo divido Np."
   ]
  },
  {
   "cell_type": "code",
   "execution_count": 97,
   "metadata": {},
   "outputs": [
    {
     "data": {
      "text/plain": [
       "0.0"
      ]
     },
     "execution_count": 97,
     "metadata": {},
     "output_type": "execute_result"
    }
   ],
   "source": [
    "sum(df_rand_perm[\"N1_mean\"]>df_rand_real[\"N1_mean\"][0])/Np"
   ]
  },
  {
   "cell_type": "code",
   "execution_count": 98,
   "metadata": {},
   "outputs": [
    {
     "data": {
      "text/plain": [
       "0.0"
      ]
     },
     "execution_count": 98,
     "metadata": {},
     "output_type": "execute_result"
    }
   ],
   "source": [
    "sum(df_rand_perm[\"N2_mean\"]>df_rand_real[\"N2_mean\"][0])/Np"
   ]
  },
  {
   "cell_type": "code",
   "execution_count": 99,
   "metadata": {},
   "outputs": [
    {
     "data": {
      "text/plain": [
       "0.0"
      ]
     },
     "execution_count": 99,
     "metadata": {},
     "output_type": "execute_result"
    }
   ],
   "source": [
    "sum(df_rand_perm[\"N3_mean\"]>df_rand_real[\"N3_mean\"][0])/Np"
   ]
  },
  {
   "cell_type": "code",
   "execution_count": 100,
   "metadata": {},
   "outputs": [
    {
     "data": {
      "text/plain": [
       "0.0"
      ]
     },
     "execution_count": 100,
     "metadata": {},
     "output_type": "execute_result"
    }
   ],
   "source": [
    "sum(df_rand_perm[\"W_mean\"]>df_rand_real[\"W_mean\"][0])/Np"
   ]
  },
  {
   "cell_type": "code",
   "execution_count": null,
   "metadata": {},
   "outputs": [],
   "source": []
  }
 ],
 "metadata": {
  "kernelspec": {
   "display_name": "Python 3",
   "language": "python",
   "name": "python3"
  },
  "language_info": {
   "codemirror_mode": {
    "name": "ipython",
    "version": 3
   },
   "file_extension": ".py",
   "mimetype": "text/x-python",
   "name": "python",
   "nbconvert_exporter": "python",
   "pygments_lexer": "ipython3",
   "version": "3.7.6"
  }
 },
 "nbformat": 4,
 "nbformat_minor": 4
}
