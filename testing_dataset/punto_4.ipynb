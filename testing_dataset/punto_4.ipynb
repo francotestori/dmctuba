{
 "cells": [
  {
   "cell_type": "code",
   "execution_count": 124,
   "metadata": {},
   "outputs": [],
   "source": [
    "import numpy as np\n",
    "import pandas as pd\n",
    "\n",
    "from scipy import spatial, stats, cluster\n",
    "import matplotlib.pyplot as plt\n",
    "import seaborn as sns\n",
    "import nibabel as nib\n",
    "from nilearn import plotting, input_data\n",
    "from nilearn.datasets import fetch_atlas_schaefer_2018\n",
    "\n",
    "import networkx as nx\n",
    "\n",
    "import matplotlib.cm as mplcm\n",
    "import matplotlib.colors as colors\n",
    "import bct\n",
    "import glob\n",
    "import community as community_louvain\n",
    "import matplotlib.cm as cm\n",
    "from sklearn.metrics import adjusted_rand_score\n",
    "import os\n",
    "import random\n",
    "\n",
    "\n",
    "%matplotlib inline\n",
    "\n",
    "# Styles\n",
    "sns.set_context('poster')\n",
    "sns.set_style('darkgrid')\n",
    "\n",
    "plt.rcParams['figure.figsize'] = [12, 6]\n",
    "plt.rcParams['figure.dpi'] = 100 # 200 e.g. is really fine, but slower\n"
   ]
  },
  {
   "cell_type": "code",
   "execution_count": 125,
   "metadata": {},
   "outputs": [
    {
     "name": "stdout",
     "output_type": "stream",
     "text": [
      "   reindex               name  mark   region side region_side\n",
      "0        1       Precentral_L  2001  Central    L   Central_L\n",
      "1        2       Precentral_R  2002  Central    R   Central_R\n",
      "2        3      Frontal_Sup_L  2101  Frontal    L   Frontal_L\n",
      "3        4      Frontal_Sup_R  2102  Frontal    R   Frontal_R\n",
      "4        5  Frontal_Sup_Orb_L  2111  Frontal    L   Frontal_L\n"
     ]
    }
   ],
   "source": [
    "dfLabels = pd.read_csv(\"../resources/aal_extended.csv\",header=None) \n",
    "dfLabels.columns = ['reindex','name','mark','region','side']\n",
    "dfLabels[\"region_side\"] = dfLabels[\"region\"] + \"_\" + dfLabels[\"side\"]\n",
    "\n",
    "print(dfLabels.head())\n",
    "\n",
    "labels = dfLabels['name'].values"
   ]
  },
  {
   "cell_type": "code",
   "execution_count": 126,
   "metadata": {},
   "outputs": [
    {
     "data": {
      "text/html": [
       "<div>\n",
       "<style scoped>\n",
       "    .dataframe tbody tr th:only-of-type {\n",
       "        vertical-align: middle;\n",
       "    }\n",
       "\n",
       "    .dataframe tbody tr th {\n",
       "        vertical-align: top;\n",
       "    }\n",
       "\n",
       "    .dataframe thead th {\n",
       "        text-align: right;\n",
       "    }\n",
       "</style>\n",
       "<table border=\"1\" class=\"dataframe\">\n",
       "  <thead>\n",
       "    <tr style=\"text-align: right;\">\n",
       "      <th></th>\n",
       "      <th>N1_mean</th>\n",
       "      <th>N2_mean</th>\n",
       "      <th>N3_mean</th>\n",
       "      <th>W_mean</th>\n",
       "      <th>N1_std</th>\n",
       "      <th>N2_std</th>\n",
       "      <th>N3_std</th>\n",
       "      <th>W_std</th>\n",
       "    </tr>\n",
       "  </thead>\n",
       "  <tbody>\n",
       "    <tr>\n",
       "      <th>0</th>\n",
       "      <td>0.266608</td>\n",
       "      <td>0.225363</td>\n",
       "      <td>0.166562</td>\n",
       "      <td>1.0</td>\n",
       "      <td>0.165663</td>\n",
       "      <td>0.180992</td>\n",
       "      <td>0.142386</td>\n",
       "      <td>0.0</td>\n",
       "    </tr>\n",
       "  </tbody>\n",
       "</table>\n",
       "</div>"
      ],
      "text/plain": [
       "    N1_mean   N2_mean   N3_mean  W_mean    N1_std    N2_std    N3_std  W_std\n",
       "0  0.266608  0.225363  0.166562     1.0  0.165663  0.180992  0.142386    0.0"
      ]
     },
     "execution_count": 126,
     "metadata": {},
     "output_type": "execute_result"
    }
   ],
   "source": [
    "Rand = {\"N1_mean\":[],\n",
    "             \"N2_mean\":[],\n",
    "             \"N3_mean\":[],\n",
    "             \"W_mean\":[],\n",
    "             \"N1_std\":[],\n",
    "             \"N2_std\":[],\n",
    "             \"N3_std\":[],\n",
    "             \"W_std\":[],\n",
    "             }\n",
    "\n",
    "tipo_red=\"W\"\n",
    "sleep_states = ['N1','N2','N3']\n",
    "\n",
    "path = r'../resources/DataSujetos' # use your path\n",
    "all_files = glob.glob(path + f\"/{tipo_red}_suj*.csv\")\n",
    "\n",
    "dict_rand = {}\n",
    "\n",
    "values_obs_dict = {}\n",
    "\n",
    "values_per_dict = {}\n",
    "\n",
    "lists_rand = {}\n",
    "for sleep_state in sleep_states:\n",
    "    lists_rand[sleep_state] = []\n",
    "lists_rand[\"W\"] = []\n",
    "    \n",
    "for filename_W in all_files:\n",
    "    #print(filename_W)\n",
    "    \n",
    "    df = pd.read_csv(filename_W, header=None, index_col=None,)\n",
    "    thresh_cmat = (df.values > .4) * 1.0\n",
    "    label_data = pd.DataFrame({'number': np.arange(len(labels)) + 1, 'region_side': labels})\n",
    "    GW = nx.from_numpy_matrix(thresh_cmat)\n",
    "    GW = nx.relabel_nodes(GW, lambda x: label_data['number'].tolist()[x])\n",
    "    \n",
    "    modulos = community_louvain.best_partition(GW)\n",
    "    values_obs = [v for n,v in modulos.items()]\n",
    "    values_obs_dict[filename_W] = values_obs\n",
    "    \n",
    "    #print({filename_W: set(values_obs)})\n",
    "    rand_score = adjusted_rand_score(values_obs, values_obs)\n",
    "    lists_rand[\"W\"].append(rand_score)\n",
    "\n",
    "\n",
    "    for sleep_state in sleep_states:\n",
    "        filename_Nx = filename_W.replace(\"W_\", sleep_state+\"_\")\n",
    "        \n",
    "        df = pd.read_csv(filename_Nx, header=None, index_col=None,)\n",
    "        thresh_cmat = (df.values > .4) * 1.0\n",
    "        label_data = pd.DataFrame({'number': np.arange(len(labels)) + 1, 'region_side': labels})\n",
    "        GNx = nx.from_numpy_matrix(thresh_cmat)\n",
    "        GNx = nx.relabel_nodes(GNx, lambda x: label_data['number'].tolist()[x])\n",
    "\n",
    "        modulos = community_louvain.best_partition(GNx)\n",
    "        values_per = [v for n,v in modulos.items()]\n",
    "        values_per_dict[filename_Nx] = values_per\n",
    "        #print({filename_W: set(values_obs)})\n",
    "\n",
    "        #print({os.path.basename(filename_Nx):adjusted_rand_score(values_obs, values_per)})\n",
    "        \n",
    "        rand_score = adjusted_rand_score(values_obs, values_per)\n",
    "        \n",
    "        dict_rand[os.path.basename(filename_Nx)] = rand_score\n",
    "        \n",
    "        lists_rand[sleep_state].append(rand_score)\n",
    "        \n",
    "    #break\n",
    "df_real = pd.DataFrame(lists_rand)\n",
    "df_real_desc = df_real.describe()\n",
    "\n",
    "Rand[\"N1_mean\"].append(df_real_desc['N1']['mean'])\n",
    "Rand[\"N2_mean\"].append(df_real_desc['N2']['mean'])\n",
    "Rand[\"N3_mean\"].append(df_real_desc['N3']['mean'])\n",
    "Rand[\"W_mean\"].append(df_real_desc['W']['mean'])\n",
    "Rand[\"N1_std\"].append(df_real_desc['N1']['std'])\n",
    "Rand[\"N2_std\"].append(df_real_desc['N2']['std'])\n",
    "Rand[\"N3_std\"].append(df_real_desc['N3']['std'])\n",
    "Rand[\"W_std\"].append(df_real_desc['W']['std'])\n",
    "\n",
    "df_rand_real = pd.DataFrame(Rand)\n",
    "df_rand_real"
   ]
  },
  {
   "cell_type": "code",
   "execution_count": 127,
   "metadata": {},
   "outputs": [
    {
     "data": {
      "text/plain": [
       "(-0.2, 1.1)"
      ]
     },
     "execution_count": 127,
     "metadata": {},
     "output_type": "execute_result"
    },
    {
     "data": {
      "image/png": "[encoded data removed]",
      "text/plain": [
       "<Figure size 1200x600 with 1 Axes>"
      ]
     },
     "metadata": {},
     "output_type": "display_data"
    }
   ],
   "source": [
    "df_real.boxplot()\n",
    "plt.ylim([-.2,1.1])"
   ]
  },
  {
   "cell_type": "code",
   "execution_count": 128,
   "metadata": {},
   "outputs": [
    {
     "data": {
      "text/plain": [
       "(-0.2, 1.1)"
      ]
     },
     "execution_count": 128,
     "metadata": {},
     "output_type": "execute_result"
    },
    {
     "data": {
      "image/png": "[encoded data removed]",
      "text/plain": [
       "<Figure size 1200x600 with 1 Axes>"
      ]
     },
     "metadata": {},
     "output_type": "display_data"
    }
   ],
   "source": [
    "df_rand_real.boxplot([\"N1_mean\",\"N2_mean\",\"N3_mean\",\"W_mean\"],)\n",
    "plt.ylim([-.2,1.1])"
   ]
  },
  {
   "cell_type": "code",
   "execution_count": 151,
   "metadata": {},
   "outputs": [
    {
     "name": "stdout",
     "output_type": "stream",
     "text": [
      "['N1', 'N2', 'N3', 'W']\n",
      "[0.26660827 0.22536339 0.16656197 1.        ]\n",
      "[0.16566276 0.18099187 0.14238573 0.        ]\n"
     ]
    },
    {
     "data": {
      "text/plain": [
       "(-0.2, 1.1)"
      ]
     },
     "execution_count": 151,
     "metadata": {},
     "output_type": "execute_result"
    },
    {
     "data": {
      "image/png": "[encoded data removed]",
      "text/plain": [
       "<Figure size 1200x600 with 1 Axes>"
      ]
     },
     "metadata": {},
     "output_type": "display_data"
    }
   ],
   "source": [
    "x = [\"N1\",\"N2\",\"N3\",\"W\"]\n",
    "y = df_rand_real[[\"N1_mean\",\"N2_mean\",\"N3_mean\",\"W_mean\"]].to_numpy()[0]\n",
    "e = df_rand_real[[\"N1_std\",\"N2_std\",\"N3_std\",\"W_std\"]].to_numpy()[0]\n",
    "\n",
    "print(x)\n",
    "print(y)\n",
    "print(e)\n",
    "\n",
    "plt.errorbar(x, y, e, linestyle='None', marker='^')\n",
    "plt.ylim([-.2,1.1])"
   ]
  },
  {
   "cell_type": "raw",
   "metadata": {},
   "source": [
    "Se aleatorizan las etiquetas de los pares NX-W de forma que siempre esten todos los\n",
    "sujetos en cada grupo pero con las etiquetas cambiadas, y se repiten los pasos 1-3 de\n",
    "forma de obtener un Índice de Rand ajustado \"within-group\" permutado (RIp). Este\n",
    "paso se repite Np veces generando una distribución empirica de valores de valores RIp."
   ]
  },
  {
   "cell_type": "code",
   "execution_count": 91,
   "metadata": {},
   "outputs": [],
   "source": [
    "values_per_rand = np.random.permutation(values_per_dict[filename_Nx])"
   ]
  },
  {
   "cell_type": "code",
   "execution_count": 112,
   "metadata": {},
   "outputs": [],
   "source": [
    "random.seed(938413)\n",
    "\n",
    "Np = 1000\n",
    "\n",
    "Rand_perm = {\"N1_mean\":[],\n",
    "             \"N2_mean\":[],\n",
    "             \"N3_mean\":[],\n",
    "             \"W_mean\":[],\n",
    "             \"N1_std\":[],\n",
    "             \"N2_std\":[],\n",
    "             \"N3_std\":[],\n",
    "             \"W_std\":[],\n",
    "             }\n",
    "\n",
    "tipo_red=\"W\"\n",
    "sleep_states = ['N1','N2','N3']\n",
    "\n",
    "path = r'../resources/DataSujetos' # use your path\n",
    "all_files = glob.glob(path + f\"/{tipo_red}_suj*.csv\")\n",
    "\n",
    "for k in range(Np):\n",
    "\n",
    "    lists_rand = {}\n",
    "    for sleep_state in sleep_states:\n",
    "        lists_rand[sleep_state] = []\n",
    "    lists_rand[\"W\"] = []\n",
    "\n",
    "\n",
    "    for filename_W in all_files:\n",
    "        values_obs = values_obs_dict[filename_W]\n",
    "\n",
    "        values_obs_rand = np.random.permutation(values_obs_dict[filename_W])\n",
    "#         values_obs_rand = list(np.random.randint(low = 0,high=4,size=len(values_obs)))\n",
    "        rand_score = adjusted_rand_score(values_obs, values_obs_rand)\n",
    "        lists_rand[\"W\"].append(rand_score)\n",
    "\n",
    "        for sleep_state in sleep_states:\n",
    "            filename_Nx = filename_W.replace(\"W_\", sleep_state+\"_\")\n",
    "            values_per_rand = np.random.permutation(values_per_dict[filename_Nx])\n",
    "#             values_per_rand = list(np.random.randint(low = 0,high=4,size=len(values_obs)))\n",
    "            rand_score = adjusted_rand_score(values_obs, values_per_rand)\n",
    "            lists_rand[sleep_state].append(rand_score)\n",
    "        #break\n",
    "    df_rand = pd.DataFrame(lists_rand)\n",
    "    df_rand_desc = df_rand.describe()\n",
    "    \n",
    "    Rand_perm[\"N1_mean\"].append(df_rand_desc['N1']['mean'])\n",
    "    Rand_perm[\"N2_mean\"].append(df_rand_desc['N2']['mean'])\n",
    "    Rand_perm[\"N3_mean\"].append(df_rand_desc['N3']['mean'])\n",
    "    Rand_perm[\"W_mean\"].append(df_rand_desc['W']['mean'])\n",
    "    Rand_perm[\"N1_std\"].append(df_rand_desc['N1']['std'])\n",
    "    Rand_perm[\"N2_std\"].append(df_rand_desc['N2']['std'])\n",
    "    Rand_perm[\"N3_std\"].append(df_rand_desc['N3']['std'])\n",
    "    Rand_perm[\"W_std\"].append(df_rand_desc['W']['std'])"
   ]
  },
  {
   "cell_type": "code",
   "execution_count": 113,
   "metadata": {},
   "outputs": [
    {
     "data": {
      "text/html": [
       "<div>\n",
       "<style scoped>\n",
       "    .dataframe tbody tr th:only-of-type {\n",
       "        vertical-align: middle;\n",
       "    }\n",
       "\n",
       "    .dataframe tbody tr th {\n",
       "        vertical-align: top;\n",
       "    }\n",
       "\n",
       "    .dataframe thead th {\n",
       "        text-align: right;\n",
       "    }\n",
       "</style>\n",
       "<table border=\"1\" class=\"dataframe\">\n",
       "  <thead>\n",
       "    <tr style=\"text-align: right;\">\n",
       "      <th></th>\n",
       "      <th>N1_mean</th>\n",
       "      <th>N2_mean</th>\n",
       "      <th>N3_mean</th>\n",
       "      <th>W_mean</th>\n",
       "      <th>N1_std</th>\n",
       "      <th>N2_std</th>\n",
       "      <th>N3_std</th>\n",
       "      <th>W_std</th>\n",
       "    </tr>\n",
       "  </thead>\n",
       "  <tbody>\n",
       "    <tr>\n",
       "      <th>0</th>\n",
       "      <td>-0.005130</td>\n",
       "      <td>0.004602</td>\n",
       "      <td>0.002854</td>\n",
       "      <td>0.000282</td>\n",
       "      <td>0.010912</td>\n",
       "      <td>0.014203</td>\n",
       "      <td>0.016072</td>\n",
       "      <td>0.012056</td>\n",
       "    </tr>\n",
       "    <tr>\n",
       "      <th>1</th>\n",
       "      <td>0.003539</td>\n",
       "      <td>-0.004841</td>\n",
       "      <td>0.002767</td>\n",
       "      <td>0.008612</td>\n",
       "      <td>0.017749</td>\n",
       "      <td>0.008189</td>\n",
       "      <td>0.014635</td>\n",
       "      <td>0.024079</td>\n",
       "    </tr>\n",
       "    <tr>\n",
       "      <th>2</th>\n",
       "      <td>-0.000827</td>\n",
       "      <td>0.001642</td>\n",
       "      <td>-0.000864</td>\n",
       "      <td>0.000308</td>\n",
       "      <td>0.017280</td>\n",
       "      <td>0.012498</td>\n",
       "      <td>0.009112</td>\n",
       "      <td>0.015168</td>\n",
       "    </tr>\n",
       "    <tr>\n",
       "      <th>3</th>\n",
       "      <td>-0.000749</td>\n",
       "      <td>-0.003201</td>\n",
       "      <td>0.001250</td>\n",
       "      <td>0.006107</td>\n",
       "      <td>0.010919</td>\n",
       "      <td>0.014770</td>\n",
       "      <td>0.014958</td>\n",
       "      <td>0.017664</td>\n",
       "    </tr>\n",
       "    <tr>\n",
       "      <th>4</th>\n",
       "      <td>0.005569</td>\n",
       "      <td>0.009433</td>\n",
       "      <td>-0.005829</td>\n",
       "      <td>0.004470</td>\n",
       "      <td>0.016560</td>\n",
       "      <td>0.017320</td>\n",
       "      <td>0.013299</td>\n",
       "      <td>0.015882</td>\n",
       "    </tr>\n",
       "    <tr>\n",
       "      <th>...</th>\n",
       "      <td>...</td>\n",
       "      <td>...</td>\n",
       "      <td>...</td>\n",
       "      <td>...</td>\n",
       "      <td>...</td>\n",
       "      <td>...</td>\n",
       "      <td>...</td>\n",
       "      <td>...</td>\n",
       "    </tr>\n",
       "    <tr>\n",
       "      <th>995</th>\n",
       "      <td>-0.001108</td>\n",
       "      <td>0.007663</td>\n",
       "      <td>-0.001052</td>\n",
       "      <td>-0.005138</td>\n",
       "      <td>0.013961</td>\n",
       "      <td>0.015621</td>\n",
       "      <td>0.008124</td>\n",
       "      <td>0.012957</td>\n",
       "    </tr>\n",
       "    <tr>\n",
       "      <th>996</th>\n",
       "      <td>0.004161</td>\n",
       "      <td>0.002464</td>\n",
       "      <td>0.003053</td>\n",
       "      <td>-0.000358</td>\n",
       "      <td>0.020945</td>\n",
       "      <td>0.014678</td>\n",
       "      <td>0.013961</td>\n",
       "      <td>0.009929</td>\n",
       "    </tr>\n",
       "    <tr>\n",
       "      <th>997</th>\n",
       "      <td>0.002082</td>\n",
       "      <td>0.001177</td>\n",
       "      <td>-0.000352</td>\n",
       "      <td>-0.005455</td>\n",
       "      <td>0.015437</td>\n",
       "      <td>0.012281</td>\n",
       "      <td>0.015447</td>\n",
       "      <td>0.014737</td>\n",
       "    </tr>\n",
       "    <tr>\n",
       "      <th>998</th>\n",
       "      <td>-0.000529</td>\n",
       "      <td>0.006844</td>\n",
       "      <td>-0.003622</td>\n",
       "      <td>0.002807</td>\n",
       "      <td>0.017359</td>\n",
       "      <td>0.017743</td>\n",
       "      <td>0.013169</td>\n",
       "      <td>0.015720</td>\n",
       "    </tr>\n",
       "    <tr>\n",
       "      <th>999</th>\n",
       "      <td>0.000463</td>\n",
       "      <td>0.006338</td>\n",
       "      <td>-0.000071</td>\n",
       "      <td>0.001346</td>\n",
       "      <td>0.014765</td>\n",
       "      <td>0.013641</td>\n",
       "      <td>0.009537</td>\n",
       "      <td>0.013360</td>\n",
       "    </tr>\n",
       "  </tbody>\n",
       "</table>\n",
       "<p>1000 rows × 8 columns</p>\n",
       "</div>"
      ],
      "text/plain": [
       "      N1_mean   N2_mean   N3_mean    W_mean    N1_std    N2_std    N3_std  \\\n",
       "0   -0.005130  0.004602  0.002854  0.000282  0.010912  0.014203  0.016072   \n",
       "1    0.003539 -0.004841  0.002767  0.008612  0.017749  0.008189  0.014635   \n",
       "2   -0.000827  0.001642 -0.000864  0.000308  0.017280  0.012498  0.009112   \n",
       "3   -0.000749 -0.003201  0.001250  0.006107  0.010919  0.014770  0.014958   \n",
       "4    0.005569  0.009433 -0.005829  0.004470  0.016560  0.017320  0.013299   \n",
       "..        ...       ...       ...       ...       ...       ...       ...   \n",
       "995 -0.001108  0.007663 -0.001052 -0.005138  0.013961  0.015621  0.008124   \n",
       "996  0.004161  0.002464  0.003053 -0.000358  0.020945  0.014678  0.013961   \n",
       "997  0.002082  0.001177 -0.000352 -0.005455  0.015437  0.012281  0.015447   \n",
       "998 -0.000529  0.006844 -0.003622  0.002807  0.017359  0.017743  0.013169   \n",
       "999  0.000463  0.006338 -0.000071  0.001346  0.014765  0.013641  0.009537   \n",
       "\n",
       "        W_std  \n",
       "0    0.012056  \n",
       "1    0.024079  \n",
       "2    0.015168  \n",
       "3    0.017664  \n",
       "4    0.015882  \n",
       "..        ...  \n",
       "995  0.012957  \n",
       "996  0.009929  \n",
       "997  0.014737  \n",
       "998  0.015720  \n",
       "999  0.013360  \n",
       "\n",
       "[1000 rows x 8 columns]"
      ]
     },
     "execution_count": 113,
     "metadata": {},
     "output_type": "execute_result"
    }
   ],
   "source": [
    "df_rand_perm = pd.DataFrame(Rand_perm)\n",
    "df_rand_perm"
   ]
  },
  {
   "cell_type": "code",
   "execution_count": 114,
   "metadata": {},
   "outputs": [
    {
     "data": {
      "text/plain": [
       "(-0.2, 1.1)"
      ]
     },
     "execution_count": 114,
     "metadata": {},
     "output_type": "execute_result"
    },
    {
     "data": {
      "image/png": "[encoded data removed]",
      "text/plain": [
       "<Figure size 1200x600 with 1 Axes>"
      ]
     },
     "metadata": {},
     "output_type": "display_data"
    }
   ],
   "source": [
    "df_rand_perm.boxplot([\"N1_mean\",\"N2_mean\",\"N3_mean\",\"W_mean\"])\n",
    "plt.ylim([-.2,1.1])"
   ]
  },
  {
   "cell_type": "raw",
   "metadata": {},
   "source": [
    "El p-valor se calcula como la cantidad de permutaciones que dieron RIp > RIo divido Np."
   ]
  },
  {
   "cell_type": "code",
   "execution_count": 115,
   "metadata": {},
   "outputs": [
    {
     "data": {
      "text/plain": [
       "0.0"
      ]
     },
     "execution_count": 115,
     "metadata": {},
     "output_type": "execute_result"
    }
   ],
   "source": [
    "sum(df_rand_perm[\"N1_mean\"]>df_rand_real[\"N1_mean\"][0])/Np"
   ]
  },
  {
   "cell_type": "code",
   "execution_count": 116,
   "metadata": {},
   "outputs": [
    {
     "data": {
      "text/plain": [
       "0.0"
      ]
     },
     "execution_count": 116,
     "metadata": {},
     "output_type": "execute_result"
    }
   ],
   "source": [
    "sum(df_rand_perm[\"N2_mean\"]>df_rand_real[\"N2_mean\"][0])/Np"
   ]
  },
  {
   "cell_type": "code",
   "execution_count": 117,
   "metadata": {},
   "outputs": [
    {
     "data": {
      "text/plain": [
       "0.0"
      ]
     },
     "execution_count": 117,
     "metadata": {},
     "output_type": "execute_result"
    }
   ],
   "source": [
    "sum(df_rand_perm[\"N3_mean\"]>df_rand_real[\"N3_mean\"][0])/Np"
   ]
  },
  {
   "cell_type": "code",
   "execution_count": 118,
   "metadata": {},
   "outputs": [
    {
     "data": {
      "text/plain": [
       "0.0"
      ]
     },
     "execution_count": 118,
     "metadata": {},
     "output_type": "execute_result"
    }
   ],
   "source": [
    "sum(df_rand_perm[\"W_mean\"]>df_rand_real[\"W_mean\"][0])/Np"
   ]
  },
  {
   "cell_type": "code",
   "execution_count": 122,
   "metadata": {},
   "outputs": [
    {
     "data": {
      "text/plain": [
       "'Este permutation test da un p-valor << 0.001 para todas las hipótesis.'"
      ]
     },
     "execution_count": 122,
     "metadata": {},
     "output_type": "execute_result"
    }
   ],
   "source": [
    "f'Este permutation test da un p-valor << {1/Np} para todas las hipótesis.'"
   ]
  },
  {
   "cell_type": "markdown",
   "metadata": {},
   "source": [
    "Esto implica que el agrupamiento que se hace en el estado Nx es distinto al agrupamiento que se hace en W, y es significativamente distinto a una asignación aleatoria de etiquetas a los nodos."
   ]
  },
  {
   "cell_type": "code",
   "execution_count": null,
   "metadata": {},
   "outputs": [],
   "source": []
  }
 ],
 "metadata": {
  "kernelspec": {
   "display_name": "Python 3",
   "language": "python",
   "name": "python3"
  },
  "language_info": {
   "codemirror_mode": {
    "name": "ipython",
    "version": 3
   },
   "file_extension": ".py",
   "mimetype": "text/x-python",
   "name": "python",
   "nbconvert_exporter": "python",
   "pygments_lexer": "ipython3",
   "version": "3.8.5"
  }
 },
 "nbformat": 4,
 "nbformat_minor": 4
}
