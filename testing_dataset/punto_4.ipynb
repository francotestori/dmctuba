{
 "cells": [
  {
   "cell_type": "code",
   "execution_count": 82,
   "metadata": {},
   "outputs": [],
   "source": [
    "import numpy as np\n",
    "import pandas as pd\n",
    "from scipy import spatial, stats, cluster\n",
    "import matplotlib.pyplot as plt\n",
    "import seaborn as sns\n",
    "import nibabel as nib\n",
    "from nilearn import plotting, input_data\n",
    "from nilearn.datasets import fetch_atlas_schaefer_2018\n",
    "import networkx as nx\n",
    "import matplotlib.cm as mplcm\n",
    "import matplotlib.colors as colors\n",
    "import bct\n",
    "import glob\n",
    "import community as community_louvain\n",
    "import matplotlib.cm as cm\n",
    "from sklearn.metrics import adjusted_rand_score\n",
    "import os\n",
    "\n",
    "\n",
    "%matplotlib inline\n",
    "\n",
    "# Styles\n",
    "sns.set_context('poster')\n",
    "sns.set_style('darkgrid')\n",
    "\n",
    "plt.rcParams['figure.figsize'] = [12, 6]\n",
    "plt.rcParams['figure.dpi'] = 100 # 200 e.g. is really fine, but slower\n"
   ]
  },
  {
   "cell_type": "code",
   "execution_count": 83,
   "metadata": {},
   "outputs": [
    {
     "name": "stdout",
     "output_type": "stream",
     "text": [
      "   reindex               name  mark   region side region_side\n",
      "0        1       Precentral_L  2001  Central    L   Central_L\n",
      "1        2       Precentral_R  2002  Central    R   Central_R\n",
      "2        3      Frontal_Sup_L  2101  Frontal    L   Frontal_L\n",
      "3        4      Frontal_Sup_R  2102  Frontal    R   Frontal_R\n",
      "4        5  Frontal_Sup_Orb_L  2111  Frontal    L   Frontal_L\n"
     ]
    }
   ],
   "source": [
    "dfLabels = pd.read_csv(\"../resources/aal_extended.csv\",header=None) \n",
    "dfLabels.columns = ['reindex','name','mark','region','side']\n",
    "dfLabels[\"region_side\"] = dfLabels[\"region\"] + \"_\" + dfLabels[\"side\"]\n",
    "\n",
    "print(dfLabels.head())\n",
    "\n",
    "labels = dfLabels['name'].values"
   ]
  },
  {
   "cell_type": "code",
   "execution_count": null,
   "metadata": {},
   "outputs": [],
   "source": []
  },
  {
   "cell_type": "code",
   "execution_count": 84,
   "metadata": {},
   "outputs": [],
   "source": [
    "sleep_states = ['N1','N2','N3']\n"
   ]
  },
  {
   "cell_type": "code",
   "execution_count": 86,
   "metadata": {},
   "outputs": [
    {
     "data": {
      "text/plain": [
       "{'N1_suj1.csv': 0.10581230226607159,\n",
       " 'N2_suj1.csv': 0.16943927431422753,\n",
       " 'N3_suj1.csv': 0.13273263177252934,\n",
       " 'N1_suj10.csv': -0.0021695335502866365,\n",
       " 'N2_suj10.csv': 0.0051095365304946695,\n",
       " 'N3_suj10.csv': 0.004051559257534492,\n",
       " 'N1_suj11.csv': 0.386960094068921,\n",
       " 'N2_suj11.csv': 0.3075810330175476,\n",
       " 'N3_suj11.csv': 0.31684622581032873,\n",
       " 'N1_suj12.csv': 0.3265577054007185,\n",
       " 'N2_suj12.csv': 0.07319976251551745,\n",
       " 'N3_suj12.csv': 0.10817142617222252,\n",
       " 'N1_suj13.csv': 0.2586835187268155,\n",
       " 'N2_suj13.csv': 0.38505034716000386,\n",
       " 'N3_suj13.csv': 0.1701187720645781,\n",
       " 'N1_suj14.csv': 0.09789595458154257,\n",
       " 'N2_suj14.csv': 0.08297811540562967,\n",
       " 'N3_suj14.csv': 0.16753529057433938,\n",
       " 'N1_suj15.csv': 0.035839877604329905,\n",
       " 'N2_suj15.csv': 0.020380447306726803,\n",
       " 'N3_suj15.csv': 0.07849709910825166,\n",
       " 'N1_suj16.csv': 0.38710160585397574,\n",
       " 'N2_suj16.csv': 0.4126157331849158,\n",
       " 'N3_suj16.csv': 0.5590529532204548,\n",
       " 'N1_suj17.csv': 0.1585882515119183,\n",
       " 'N2_suj17.csv': 0.13160886223123283,\n",
       " 'N3_suj17.csv': 0.07559813240523892,\n",
       " 'N1_suj18.csv': 0.2020908543993606,\n",
       " 'N2_suj18.csv': 0.1393575505689848,\n",
       " 'N3_suj18.csv': 0.3603281786258558,\n",
       " 'N1_suj2.csv': 0.5720112120674427,\n",
       " 'N2_suj2.csv': 0.41371194031377406,\n",
       " 'N3_suj2.csv': 0.1740522006816516,\n",
       " 'N1_suj3.csv': 0.15305731433934272,\n",
       " 'N2_suj3.csv': 0.114865151168408,\n",
       " 'N3_suj3.csv': 0.09961041993003732,\n",
       " 'N1_suj4.csv': 0.25812724683354293,\n",
       " 'N2_suj4.csv': 0.09696888053734026,\n",
       " 'N3_suj4.csv': 0.03599502550168429,\n",
       " 'N1_suj5.csv': 0.17276309882856647,\n",
       " 'N2_suj5.csv': -0.00296430341024151,\n",
       " 'N3_suj5.csv': 0.06765278880150083,\n",
       " 'N1_suj6.csv': 0.4548890805776433,\n",
       " 'N2_suj6.csv': 0.24594236007717868,\n",
       " 'N3_suj6.csv': 0.38074867992625516,\n",
       " 'N1_suj7.csv': 0.13336911299018164,\n",
       " 'N2_suj7.csv': 0.11132817830451719,\n",
       " 'N3_suj7.csv': 0.04976988787461058,\n",
       " 'N1_suj8.csv': 0.31599443495914953,\n",
       " 'N2_suj8.csv': 0.35323613167888657,\n",
       " 'N3_suj8.csv': 0.09196219313470688,\n",
       " 'N1_suj9.csv': 0.5362022424275906,\n",
       " 'N2_suj9.csv': 0.4067323635009279,\n",
       " 'N3_suj9.csv': 0.20602206336654916}"
      ]
     },
     "execution_count": 86,
     "metadata": {},
     "output_type": "execute_result"
    }
   ],
   "source": [
    "tipo_red=\"W\"\n",
    "\n",
    "path = r'../resources/DataSujetos' # use your path\n",
    "all_files = glob.glob(path + f\"/{tipo_red}_suj*.csv\")\n",
    "\n",
    "dict_rand = {}\n",
    "\n",
    "for filename_W in all_files:\n",
    "    #print(filename_W)\n",
    "    \n",
    "    df = pd.read_csv(filename_W, header=None, index_col=None,)\n",
    "    thresh_cmat = (df.values > .4) * 1.0\n",
    "    label_data = pd.DataFrame({'number': np.arange(len(labels)) + 1, 'region_side': labels})\n",
    "    GW = nx.from_numpy_matrix(thresh_cmat)\n",
    "    GW = nx.relabel_nodes(GW, lambda x: label_data['number'].tolist()[x])\n",
    "    \n",
    "    modulos = community_louvain.best_partition(GW)\n",
    "    values_obs = [v for n,v in modulos.items()]\n",
    "    #print({filename_W: set(values_obs)})\n",
    "\n",
    "\n",
    "    for sleep_state in sleep_states:\n",
    "        filename_Nx = filename_W.replace(\"W_\", sleep_state+\"_\")\n",
    "        \n",
    "        df = pd.read_csv(filename_Nx, header=None, index_col=None,)\n",
    "        thresh_cmat = (df.values > .4) * 1.0\n",
    "        label_data = pd.DataFrame({'number': np.arange(len(labels)) + 1, 'region_side': labels})\n",
    "        GNx = nx.from_numpy_matrix(thresh_cmat)\n",
    "        GNx = nx.relabel_nodes(GNx, lambda x: label_data['number'].tolist()[x])\n",
    "\n",
    "        modulos = community_louvain.best_partition(GNx)\n",
    "        values_per = [v for n,v in modulos.items()]\n",
    "        #print({filename_W: set(values_obs)})\n",
    "\n",
    "        #print({os.path.basename(filename_Nx):adjusted_rand_score(values_obs, values_per)})\n",
    "        \n",
    "        dict_rand[os.path.basename(filename_Nx)] = adjusted_rand_score(values_obs, values_per)\n",
    "        \n",
    "    #break\n",
    "dict_rand"
   ]
  },
  {
   "cell_type": "code",
   "execution_count": 64,
   "metadata": {},
   "outputs": [],
   "source": [
    "df = pd.read_csv(fr'../resources/DataSujetos/W_suj1.csv', header=None, index_col=None,)\n",
    "\n",
    "#thresh_cmat = bct.threshold_absolute(df.values, thr=.8)\n",
    "thresh_cmat = (df.values > .4) * 1.0\n",
    "\n",
    "label_data = pd.DataFrame({'number': np.arange(len(labels)) + 1, 'region_side': labels})\n",
    "\n",
    "GW = nx.from_numpy_matrix(thresh_cmat)\n",
    "GW = nx.relabel_nodes(GW, lambda x: label_data['number'].tolist()[x])\n",
    "\n"
   ]
  },
  {
   "cell_type": "code",
   "execution_count": 65,
   "metadata": {},
   "outputs": [],
   "source": [
    "df = pd.read_csv(fr'../resources/DataSujetos\\N3_suj1.csv', header=None, index_col=None,)\n",
    "\n",
    "# thresh_cmat = bct.threshold_absolute(df.values, thr=.4)\n",
    "thresh_cmat = (df.values > .4) * 1.0\n",
    "\n",
    "\n",
    "label_data = pd.DataFrame({'number': np.arange(len(labels)) + 1, 'region_side': labels})\n",
    "\n",
    "GNx = nx.from_numpy_matrix(thresh_cmat)\n",
    "GNx = nx.relabel_nodes(GNx, lambda x: label_data['number'].tolist()[x])\n",
    "\n"
   ]
  },
  {
   "cell_type": "code",
   "execution_count": 66,
   "metadata": {},
   "outputs": [
    {
     "data": {
      "text/plain": [
       "{0, 1, 2, 3, 4}"
      ]
     },
     "execution_count": 66,
     "metadata": {},
     "output_type": "execute_result"
    }
   ],
   "source": [
    "modulos = community_louvain.best_partition(GW)\n",
    "values_obs = [v for n,v in modulos.items()]\n",
    "set(values_obs)"
   ]
  },
  {
   "cell_type": "code",
   "execution_count": 60,
   "metadata": {},
   "outputs": [
    {
     "data": {
      "text/plain": [
       "{0, 1, 2, 3, 4}"
      ]
     },
     "execution_count": 60,
     "metadata": {},
     "output_type": "execute_result"
    }
   ],
   "source": [
    "modulos = community_louvain.best_partition(GNx)\n",
    "values_per = [v for n,v in modulos.items()]\n",
    "set(values_obs)"
   ]
  },
  {
   "cell_type": "code",
   "execution_count": null,
   "metadata": {},
   "outputs": [],
   "source": []
  },
  {
   "cell_type": "code",
   "execution_count": 62,
   "metadata": {},
   "outputs": [
    {
     "data": {
      "text/plain": [
       "{'N3_suj1': 0.1189657970977296}"
      ]
     },
     "execution_count": 62,
     "metadata": {},
     "output_type": "execute_result"
    }
   ],
   "source": [
    "from sklearn.metrics import adjusted_rand_score\n",
    "\n",
    "{'N3_suj1':adjusted_rand_score(values_obs, values_per)}"
   ]
  },
  {
   "cell_type": "code",
   "execution_count": 31,
   "metadata": {},
   "outputs": [
    {
     "data": {
      "text/plain": [
       "['../resources/DataSujetos\\\\W_suj1.csv',\n",
       " '../resources/DataSujetos\\\\W_suj10.csv',\n",
       " '../resources/DataSujetos\\\\W_suj11.csv',\n",
       " '../resources/DataSujetos\\\\W_suj12.csv',\n",
       " '../resources/DataSujetos\\\\W_suj13.csv',\n",
       " '../resources/DataSujetos\\\\W_suj14.csv',\n",
       " '../resources/DataSujetos\\\\W_suj15.csv',\n",
       " '../resources/DataSujetos\\\\W_suj16.csv',\n",
       " '../resources/DataSujetos\\\\W_suj17.csv',\n",
       " '../resources/DataSujetos\\\\W_suj18.csv',\n",
       " '../resources/DataSujetos\\\\W_suj2.csv',\n",
       " '../resources/DataSujetos\\\\W_suj3.csv',\n",
       " '../resources/DataSujetos\\\\W_suj4.csv',\n",
       " '../resources/DataSujetos\\\\W_suj5.csv',\n",
       " '../resources/DataSujetos\\\\W_suj6.csv',\n",
       " '../resources/DataSujetos\\\\W_suj7.csv',\n",
       " '../resources/DataSujetos\\\\W_suj8.csv',\n",
       " '../resources/DataSujetos\\\\W_suj9.csv']"
      ]
     },
     "execution_count": 31,
     "metadata": {},
     "output_type": "execute_result"
    }
   ],
   "source": [
    "all_files"
   ]
  }
 ],
 "metadata": {
  "kernelspec": {
   "display_name": "Python 3",
   "language": "python",
   "name": "python3"
  },
  "language_info": {
   "codemirror_mode": {
    "name": "ipython",
    "version": 3
   },
   "file_extension": ".py",
   "mimetype": "text/x-python",
   "name": "python",
   "nbconvert_exporter": "python",
   "pygments_lexer": "ipython3",
   "version": "3.7.6"
  }
 },
 "nbformat": 4,
 "nbformat_minor": 4
}
